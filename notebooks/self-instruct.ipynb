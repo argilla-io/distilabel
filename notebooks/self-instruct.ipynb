{
 "cells": [
  {
   "cell_type": "code",
   "execution_count": 2,
   "metadata": {},
   "outputs": [
    {
     "data": {
      "text/plain": [
       "[({'id': 'chatcmpl-8GVNxSWdMJeoDbNus7KOQIpHvOYkM',\n",
       "   'object': 'chat.completion',\n",
       "   'created': 1698944585,\n",
       "   'model': 'gpt-4-0613',\n",
       "   'choices': [{'index': 0,\n",
       "     'message': {'role': 'assistant',\n",
       "      'content': 'Evaluate the truthfulness of the statement: \"Early lung cancer always shows symptoms.\"\\n\\nCan you confirm if adenocarcinomas, squamous-cell carcinomas, and large-cell carcinomas are all non-small-cell lung cancers?\\n\\nCheck the accuracy of this statement: \"A definitive diagnosis of lung cancer can be achieved solely by imaging tests.\"\\n\\nExamine the claim: \"All lung cancer cases are small-cell lung cancers.\"\\n\\nValidate the assertion: \"The staging of lung cancer is determined without any further imaging or biopsies after the initial diagnosis.\"\\n\\nInvestigate the validity of this statement: \"Coughing, shortness of breath, and chest'},\n",
       "     'finish_reason': 'length'}],\n",
       "   'usage': {'prompt_tokens': 410,\n",
       "    'completion_tokens': 128,\n",
       "    'total_tokens': 538}},\n",
       "  [{'generations': ['Evaluate the truthfulness of the statement: \"Early lung cancer always shows symptoms.\"',\n",
       "     '',\n",
       "     'Can you confirm if adenocarcinomas, squamous-cell carcinomas, and large-cell carcinomas are all non-small-cell lung cancers?',\n",
       "     '',\n",
       "     'Check the accuracy of this statement: \"A definitive diagnosis of lung cancer can be achieved solely by imaging tests.\"',\n",
       "     '',\n",
       "     'Examine the claim: \"All lung cancer cases are small-cell lung cancers.\"',\n",
       "     '',\n",
       "     'Validate the assertion: \"The staging of lung cancer is determined without any further imaging or biopsies after the initial diagnosis.\"',\n",
       "     '',\n",
       "     'Investigate the validity of this statement: \"Coughing, shortness of breath, and chest']}])]"
      ]
     },
     "execution_count": 2,
     "metadata": {},
     "output_type": "execute_result"
    }
   ],
   "source": [
    "from ultralabel.llm.openai_ import OpenAILLM\n",
    "from ultralabel.tasks.text_generation.openai_ import SelfInstructTask\n",
    "import os\n",
    "\n",
    "os.environ[\"OPENAI_API_KEY\"] = \"sk-**\"\n",
    "\n",
    "\n",
    "llm = OpenAILLM(\n",
    "    model=\"gpt-4\",\n",
    "    task=SelfInstructTask(application_description=\"AI application to assess the veracity of medical statements with confirmed, unconfirmed, false\"),\n",
    "    max_new_tokens=128\n",
    ")\n",
    "\n",
    "instruction = \"Early lung cancer often has no symptoms and can only be detected by medical imaging. As the cancer progresses, most people experience nonspecific respiratory problems: coughing, shortness of breath, or chest pain. Other symptoms depend on the location and size of the tumor. Those suspected of having lung cancer typically undergo a series of imaging tests to determine the location and extent of any tumors. Definitive diagnosis of lung cancer requires a biopsy of the suspected tumor be examined by a pathologist under a microscope. In addition to recognizing cancerous cells, a pathologist can classify the tumor according to the type of cells it originates from. Around 15% of cases are small-cell lung cancer, and the remaining 85% (the non-small-cell lung cancers) are adenocarcinomas, squamous-cell carcinomas, and large-cell carcinomas. After diagnosis, further imaging and biopsies are done to determine the cancer's stage based on how far it has spread.\"\n",
    "\n",
    "response = llm.generate([{\"instruction\": instruction }])\n",
    "response"
   ]
  },
  {
   "cell_type": "code",
   "execution_count": 4,
   "metadata": {},
   "outputs": [
    {
     "data": {
      "text/plain": [
       "[({'id': 'chatcmpl-8GVQpSblC8kEUdw8zK6XeKFMfRyMK',\n",
       "   'object': 'chat.completion',\n",
       "   'created': 1698944763,\n",
       "   'model': 'gpt-4-0613',\n",
       "   'choices': [{'index': 0,\n",
       "     'message': {'role': 'assistant',\n",
       "      'content': 'Could you create a table to summarize the different types of polygons and their properties?\\nPlease generate a table that outlines the steps in solving quadratic equations.\\nCan you show a table illustrating the relationship between the Pythagorean theorem and common right triangles?\\nDesign a table to demonstrate the varying probabilities of rolling a six on a dice over multiple attempts.\\nConstruct a table to compare and contrast linear and quadratic equations.\\nWould you mind illustrating the multiplication table of 9 in a grid format?\\nCould you show a table that explains the different methods of finding the area of a triangle?\\nCan you devise a table showing the progression of the Fibonacci sequence?\\nGenerate a table'},\n",
       "     'finish_reason': 'length'}],\n",
       "   'usage': {'prompt_tokens': 207,\n",
       "    'completion_tokens': 128,\n",
       "    'total_tokens': 335}},\n",
       "  [{'generations': ['Could you create a table to summarize the different types of polygons and their properties?',\n",
       "     'Please generate a table that outlines the steps in solving quadratic equations.',\n",
       "     'Can you show a table illustrating the relationship between the Pythagorean theorem and common right triangles?',\n",
       "     'Design a table to demonstrate the varying probabilities of rolling a six on a dice over multiple attempts.',\n",
       "     'Construct a table to compare and contrast linear and quadratic equations.',\n",
       "     'Would you mind illustrating the multiplication table of 9 in a grid format?',\n",
       "     'Could you show a table that explains the different methods of finding the area of a triangle?',\n",
       "     'Can you devise a table showing the progression of the Fibonacci sequence?',\n",
       "     'Generate a table']}])]"
      ]
     },
     "execution_count": 4,
     "metadata": {},
     "output_type": "execute_result"
    }
   ],
   "source": [
    "llm = OpenAILLM(\n",
    "    model=\"gpt-4\",\n",
    "    task=SelfInstructTask(application_description=\"AI application to generate tables\"),\n",
    "    max_new_tokens=128\n",
    ")\n",
    "\n",
    "instruction = \"High school math\"\n",
    "\n",
    "response = llm.generate([{\"instruction\": instruction }])\n",
    "response"
   ]
  },
  {
   "cell_type": "code",
   "execution_count": 5,
   "metadata": {},
   "outputs": [
    {
     "data": {
      "text/plain": [
       "[({'id': 'chatcmpl-8GVS2a7bi5VGOU4rV8R30EssZWDgy',\n",
       "   'object': 'chat.completion',\n",
       "   'created': 1698944838,\n",
       "   'model': 'gpt-4-0613',\n",
       "   'choices': [{'index': 0,\n",
       "     'message': {'role': 'assistant',\n",
       "      'content': \"Tell me a humorous story about Napoleon Bonaparte's childhood.\\nWhat is a funny mishap that happened during Napoleon's military campaigns?\\nCan you recount a comical incident involving Napoleon Bonaparte and his love for mathematics?\\nDescribe a hilarious episode from Napoleon's time as a leader.\\nWhat's a funny fact about Napoleon's obsession with his height?\\nCan you spin a tale about a humorous misunderstanding in Napoleon's political career?\\nWhat was a hilarious encounter Napoleon had with one of his contemporaries?\\nGive me a funny anecdote about Napoleon's exile.\\nNarrate a humorous mix-up that took place during Napoleon's rule.\\nTell me a joke\"},\n",
       "     'finish_reason': 'length'}],\n",
       "   'usage': {'prompt_tokens': 214,\n",
       "    'completion_tokens': 128,\n",
       "    'total_tokens': 342}},\n",
       "  [{'generations': [\"Tell me a humorous story about Napoleon Bonaparte's childhood.\",\n",
       "     \"What is a funny mishap that happened during Napoleon's military campaigns?\",\n",
       "     'Can you recount a comical incident involving Napoleon Bonaparte and his love for mathematics?',\n",
       "     \"Describe a hilarious episode from Napoleon's time as a leader.\",\n",
       "     \"What's a funny fact about Napoleon's obsession with his height?\",\n",
       "     \"Can you spin a tale about a humorous misunderstanding in Napoleon's political career?\",\n",
       "     'What was a hilarious encounter Napoleon had with one of his contemporaries?',\n",
       "     \"Give me a funny anecdote about Napoleon's exile.\",\n",
       "     \"Narrate a humorous mix-up that took place during Napoleon's rule.\",\n",
       "     'Tell me a joke']}])]"
      ]
     },
     "execution_count": 5,
     "metadata": {},
     "output_type": "execute_result"
    }
   ],
   "source": [
    "llm = OpenAILLM(\n",
    "    model=\"gpt-4\",\n",
    "    task=SelfInstructTask(application_description=\"AI application generate funny biographies of historical figures\"),\n",
    "    max_new_tokens=128\n",
    ")\n",
    "\n",
    "instruction = \"Napoleon Bonaparte\"\n",
    "\n",
    "response = llm.generate([{\"instruction\": instruction }])\n",
    "response"
   ]
  }
 ],
 "metadata": {
  "kernelspec": {
   "display_name": "Python 3",
   "language": "python",
   "name": "python3"
  },
  "language_info": {
   "codemirror_mode": {
    "name": "ipython",
    "version": 3
   },
   "file_extension": ".py",
   "mimetype": "text/x-python",
   "name": "python",
   "nbconvert_exporter": "python",
   "pygments_lexer": "ipython3",
   "version": "3.11.6"
  },
  "orig_nbformat": 4
 },
 "nbformat": 4,
 "nbformat_minor": 2
}
