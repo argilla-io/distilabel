{
 "cells": [
  {
   "cell_type": "markdown",
   "metadata": {},
   "source": [
    "# 🤗 Use Notus on inference endpoints to create a legal preference dataset\n",
    "\n",
    "[![Open In Colab](https://colab.research.google.com/assets/colab-badge.svg)](https://colab.research.google.com/github/argilla-io/distilabel/blob/main/docs/tutorials/pipeline-notus-instructions-preferences-legal.ipynb) [![Open Source in Github](https://img.shields.io/badge/github-view%20source-black.svg)](https://github.com/argilla-io/distilabel/blob/main/docs/tutorials/pipeline-notus-instructions-preferences-legal.ipynb)\n",
    "\n",
    "\n",
    "In this tutorial, you will learn how to use the Notus model on Inference Endpoints to create a legal preference dataset based on RAG instructions from the European AI Act. A full end-to-end example of how to use distilabel to leverage LLMs!\n",
    "\n",
    "[distilabel](https://github.com/argilla-io/distilabel) is an AI Feedback (AIF) framework that can generate and label datasets using LLMs, and can be used for many different use cases. Implemented with robustness, efficiency and scalability in mind, it allows anyone to build their synthetic datasets that can be used in many different scenarios. This tutorial shows an end-to-end example in which we will create a model expert in the new AI Act, to which we can make different types of questions and requests.\n",
    "\n",
    "The LLM model that we will fine-tune for this is [Notus 7B](https://argilla.io/blog/notus7b/), a fine-tuned version of Zephyr 7B that uses Direct Preference Optimization (DPO) and AIF techniques to outperform its foundation model in several benchmarks, and is completely open-source.\n",
    "\n",
    "This tutorial includes the following steps:\n",
    "\n",
    "- Defining a custom generating task for a `distilabel` pipeline.\n",
    "- Creating a RAG pipeline using Haystack for the EU AI Act.\n",
    "- Generating an instruction dataset with `SelfInstructTask`.\n",
    "- Generating a preference dataset using an `UltraFeedback` text quality task.\n",
    "\n",
    "You can use the Open in Colab button at the top of this page. This option allows you to run the notebook directly on Google Colab. Don't forget to change the runtime type to GPU for faster model training and inference."
   ]
  },
  {
   "cell_type": "markdown",
   "metadata": {},
   "source": [
    "## Introduction\n",
    "\n",
    "Let's start by installing the required depencies to run distilabel, Argilla and the rest of the packages used in the tutorial; most notably, Haystack.\n"
   ]
  },
  {
   "cell_type": "code",
   "execution_count": null,
   "metadata": {},
   "outputs": [],
   "source": [
    "%pip install argilla distilabel \"farm-haystack[preprocessing]\" pip install \"distilabel[hf-inference-endpoints]\""
   ]
  },
  {
   "cell_type": "markdown",
   "metadata": {},
   "source": [
    "### Running Argilla\n",
    "\n",
    "For this tutorial, you can use Argilla to visualize and annotate the different datasets created by distilabel. There are two main options for deploying and running Argilla:\n",
    "\n",
    "**Deploy Argilla on Hugging Face Spaces:** If you want to run tutorials with external notebooks (e.g., Google Colab) and you have an account on Hugging Face, you can deploy Argilla on Spaces with a few clicks:\n",
    "\n",
    "[![deploy on spaces](https://huggingface.co/datasets/huggingface/badges/raw/main/deploy-to-spaces-lg.svg)](https://huggingface.co/new-space?template=argilla/argilla-template-space)\n",
    "\n",
    "For details about configuring your deployment, check the [official Hugging Face Hub guide](https://huggingface.co/docs/hub/spaces-sdks-docker-argilla).\n",
    "\n",
    "**Launch Argilla using Argilla's quickstart Docker image**: This is the recommended option if you want [Argilla running on your local machine](../../getting_started/quickstart.ipynb). Note that this option will only let you run the tutorial locally and not with an external notebook service.\n",
    "\n",
    "For more information on deployment options, please check the Deployment section of the documentation.\n",
    "\n",
    "<div class=\"alert alert-info\">\n",
    "\n",
    "Tip\n",
    "\n",
    "This tutorial is a Jupyter Notebook. There are two options to run it:\n",
    "\n",
    "- Use the Open in Colab button at the top of this page. This option allows you to run the notebook directly on Google Colab. Don't forget to change the runtime type to GPU for faster model training and inference.\n",
    "- Download the .ipynb file by clicking on the View source link at the top of the page. This option allows you to download the notebook and run it on your local machine or on a Jupyter notebook tool of your choice.\n",
    "</div>\n"
   ]
  },
  {
   "cell_type": "markdown",
   "metadata": {},
   "source": [
    "### Import dependencies\n",
    "\n",
    "The main dependencies for this tutorial are distilabel for creating the synthetic datasets and Argilla for visualizing and annotating these datasets, and also for fine-tuning our model. The package [Haystack](https://haystack.deepset.ai/) is used to creates batches from the original PDF document we want to create our datasets from.\n"
   ]
  },
  {
   "cell_type": "code",
   "execution_count": 1,
   "metadata": {},
   "outputs": [
    {
     "name": "stderr",
     "output_type": "stream",
     "text": [
      "/Users/ignacio/Documents/recognai/distilabel/.venv/lib/python3.10/site-packages/tqdm/auto.py:21: TqdmWarning: IProgress not found. Please update jupyter and ipywidgets. See https://ipywidgets.readthedocs.io/en/stable/user_install.html\n",
      "  from .autonotebook import tqdm as notebook_tqdm\n"
     ]
    }
   ],
   "source": [
    "import os\n",
    "from typing import Dict\n",
    "\n",
    "import argilla as rg\n",
    "\n",
    "from distilabel.llm import InferenceEndpointsLLM\n",
    "from distilabel.pipeline import Pipeline, pipeline\n",
    "from distilabel.tasks import TextGenerationTask, SelfInstructTask, Prompt\n",
    "\n",
    "from datasets import Dataset\n",
    "from haystack.nodes import PDFToTextConverter, PreProcessor"
   ]
  },
  {
   "cell_type": "markdown",
   "metadata": {},
   "source": [
    "If you are running Argilla using the Docker quickstart image or Hugging Face Spaces, you need to init the Argilla client with the URL and API_KEY:\n"
   ]
  },
  {
   "cell_type": "code",
   "execution_count": 2,
   "metadata": {},
   "outputs": [],
   "source": [
    "# Replace api_url with the url to your HF Spaces URL if using Spaces\n",
    "# Replace api_key if you configured a custom API key\n",
    "rg.init(\n",
    "    api_url=\"https://ignacioct-argilla.hf.space\",\n",
    "    api_key=\"owner.apikey\",\n",
    "    workspace=\"admin\",\n",
    ")"
   ]
  },
  {
   "cell_type": "markdown",
   "metadata": {},
   "source": [
    "Additionally, we need to provide our HuggingFace and OpenAI accest token. To later instatiate an `InferenceEndpointsLLM` object, we need to pass as parameters the HF Inference Endpoint name and the HF namespace. One very convenient way to do so is also through environment variables.\n"
   ]
  },
  {
   "cell_type": "code",
   "execution_count": 4,
   "metadata": {},
   "outputs": [],
   "source": [
    "os.environ[\"HF_TOKEN\"] = \"\"\n",
    "os.environ[\"HF_INFERENCE_ENDPOINT_NAME\"] = \"aws-notus-7b-v1-3184\"\n",
    "os.environ[\"HF_NAMESPACE\"] = \"argilla\"\n",
    "os.environ[\"OPENAI_API_KEY\"] = \"\""
   ]
  },
  {
   "cell_type": "markdown",
   "metadata": {},
   "source": [
    "## Setting up an inference endpoint with Notus\n",
    "\n",
    "Inference endpoints are a solution, managed by Hugging Face, to easily deploy any Transformer-like model. They are built from models on the Hugging Face Hub. Inference endpoints are really handy for making inference on LLMs without the hastle of trying to run the models locally. In this tutorial, we will use inference endpoints to generate text using our Notus model, as part of the `distilabel` workflow. The endpoint of choice has a [Notus 7B instance](https://ui.endpoints.huggingface.co/argilla/endpoints/aws-notus-7b-v1-4052) running.\n",
    "\n",
    "### Defining a custom generating task for a distilabel pipeline\n",
    "\n",
    "To kickstart this tutorial, let's see how to set up and endpoint for our Notus model. It's not part of the end-to-end example we'll see later, but an example of how to connect to a Hugging Face endpoint and a test of the `distilabel` pipeline.\n",
    "\n",
    "Let's dive into this quick example of how to use an inference endpoint. We have prepared an easy `TextGenerationTask` to ask question to the model, in a very similar way as we talk with the LLMs using chatbots. First, we define a class for the question-answering task, with functions showing `distilabel` how the model should generate the prompts, parse the input and the output, etc.\n"
   ]
  },
  {
   "cell_type": "code",
   "execution_count": 5,
   "metadata": {},
   "outputs": [],
   "source": [
    "class QuestionAnsweringTask(TextGenerationTask):\n",
    "    def generate_prompt(self, question: str) -> str:\n",
    "        return Prompt(\n",
    "            system_prompt=self.system_prompt,\n",
    "            formatted_prompt=question,\n",
    "        ).format_as(\n",
    "            \"llama2\"\n",
    "        )  # type: ignore\n",
    "\n",
    "    def parse_output(self, output: str) -> Dict[str, str]:\n",
    "        return {\"answer\": output.strip()}\n",
    "\n",
    "    @property\n",
    "    def input_args_names(self) -> list[str]:\n",
    "        return [\"question\"]\n",
    "\n",
    "    @property\n",
    "    def output_args_names(self) -> list[str]:\n",
    "        return [\"answer\"]"
   ]
  },
  {
   "cell_type": "markdown",
   "metadata": {},
   "source": [
    "`llm` is an object of the `InferenceEndpointsLLM` class, and by using it we can start generating answers to question using the `llm.generate()` method.\n"
   ]
  },
  {
   "cell_type": "code",
   "execution_count": 6,
   "metadata": {},
   "outputs": [],
   "source": [
    "llm = InferenceEndpointsLLM(\n",
    "    endpoint_name_or_model_id=os.getenv(\"HF_INFERENCE_ENDPOINT_NAME\"),  # type: ignore\n",
    "    endpoint_namespace=os.getenv(\"HF_NAMESPACE\"),  # type: ignore\n",
    "    token=os.getenv(\"HF_TOKEN\") or None,\n",
    "    task=QuestionAnsweringTask(),\n",
    ")"
   ]
  },
  {
   "cell_type": "markdown",
   "metadata": {},
   "source": [
    "With the `InferenceEndpointsLLM` object defined with the endpoint information and the Task, we can go ahead and start generating text. Let's ask this LLM what's, for example, the second most populated city in Denmark. The answer should be Aarhus.\n"
   ]
  },
  {
   "cell_type": "code",
   "execution_count": 7,
   "metadata": {},
   "outputs": [
    {
     "data": {
      "text/plain": [
       "'The second most populated city in Denmark is Aarhus, with a population of around 340,000 people. It is located on the east coast of Jutland, and is known for its vibrant cultural scene, beautiful beaches, and historic landmarks. Aarhus is also home to Aarhus University, one of the largest universities in Scandinavia.'"
      ]
     },
     "execution_count": 7,
     "metadata": {},
     "output_type": "execute_result"
    }
   ],
   "source": [
    "generation = llm.generate(\n",
    "    [{\"question\": \"What's the second most populated city in Denmark?\"}]\n",
    ")\n",
    "generation[0][0][\"parsed_output\"][\"answer\"]"
   ]
  },
  {
   "cell_type": "markdown",
   "metadata": {},
   "source": [
    "The endpoint is working correctly! We have succesfully set up a custom generating task for a `distilabel` pipeline.\n"
   ]
  },
  {
   "cell_type": "markdown",
   "metadata": {},
   "source": [
    "## Creating a RAG pipeline using Haystack for the European AI Act\n",
    "\n",
    "For this end-to-end example, we would like to create an expert model capable of answering question and filling up information about the new AI Act promoted by the European Union, which is the first regulation on artificial intelligence. As part of its digital strategy, the EU wants to regulate artificial AI to ensure better conditions for the development and use of this innovative technology. This act is a regulatory framework for AI, with different risk levels meaning more or less regulation. They are the world's first rules on AI.\n",
    "\n",
    "This RAG pipeline that we want to create downloads the PDF file, converts it to plain text and preprocess it, creating batches that we can feed `distilabel` to start creating instructions from it. Let's see this first part of the pipeline and get the input data. Note that this RAG part of the pipeline is not based on an active pipeline based queries or semantic properties, but a more brute-force approach in which we download the PDF and preprocess its contents.\n",
    "\n",
    "### Downloading the AI Act PDF\n",
    "\n",
    "Firstly, we need to download the PDF document itself. We'll place it in our working directory, if it's not there already.\n"
   ]
  },
  {
   "cell_type": "code",
   "execution_count": 8,
   "metadata": {},
   "outputs": [],
   "source": [
    "%%bash\n",
    "\n",
    "if [ ! -f \"The-AI-Act.pdf\" ]; then\n",
    "    wget -q https://artificialintelligenceact.eu/wp-content/uploads/2021/08/The-AI-Act.pdf\n",
    "fi"
   ]
  },
  {
   "cell_type": "markdown",
   "metadata": {},
   "source": [
    "Once we have it in our working directory, we can use Haystack's Converter and Pipeline features to extract the textual data, clean it and divide it in different batches. Afterwards, these batches will be used to start creating synthetic instructions.\n"
   ]
  },
  {
   "cell_type": "code",
   "execution_count": 9,
   "metadata": {},
   "outputs": [
    {
     "name": "stderr",
     "output_type": "stream",
     "text": [
      "pdftotext version 4.04 [www.xpdfreader.com]\n",
      "Copyright 1996-2022 Glyph & Cog, LLC\n",
      "Preprocessing:   0%|          | 0/1 [00:00<?, ?docs/s]"
     ]
    },
    {
     "data": {
      "text/html": [
       "<pre style=\"white-space:pre;overflow-x:auto;line-height:normal;font-family:Menlo,'DejaVu Sans Mono',consolas,'Courier New',monospace\"><span style=\"color: #7fbfbf; text-decoration-color: #7fbfbf\">[01/15/24 10:40:38] </span><span style=\"color: #800000; text-decoration-color: #800000\">WARNING </span> WARNING:haystack.nodes.preprocessor.preprocessor:We found one or   <a href=\"file:///Users/ignacio/Documents/recognai/distilabel/.venv/lib/python3.10/site-packages/haystack/nodes/preprocessor/preprocessor.py\" target=\"_blank\"><span style=\"color: #7f7f7f; text-decoration-color: #7f7f7f\">preprocessor.py</span></a><span style=\"color: #7f7f7f; text-decoration-color: #7f7f7f\">:</span><a href=\"file:///Users/ignacio/Documents/recognai/distilabel/.venv/lib/python3.10/site-packages/haystack/nodes/preprocessor/preprocessor.py#516\" target=\"_blank\"><span style=\"color: #7f7f7f; text-decoration-color: #7f7f7f\">516</span></a>\n",
       "<span style=\"color: #7fbfbf; text-decoration-color: #7fbfbf\">                    </span>         more sentences whose split count is higher than the split length.  <span style=\"color: #7f7f7f; text-decoration-color: #7f7f7f\">                   </span>\n",
       "</pre>\n"
      ],
      "text/plain": [
       "\u001b[2;36m[01/15/24 10:40:38]\u001b[0m\u001b[2;36m \u001b[0m\u001b[31mWARNING \u001b[0m WARNING:haystack.nodes.preprocessor.preprocessor:We found one or   \u001b]8;id=899397;file:///Users/ignacio/Documents/recognai/distilabel/.venv/lib/python3.10/site-packages/haystack/nodes/preprocessor/preprocessor.py\u001b\\\u001b[2mpreprocessor.py\u001b[0m\u001b]8;;\u001b\\\u001b[2m:\u001b[0m\u001b]8;id=257975;file:///Users/ignacio/Documents/recognai/distilabel/.venv/lib/python3.10/site-packages/haystack/nodes/preprocessor/preprocessor.py#516\u001b\\\u001b[2m516\u001b[0m\u001b]8;;\u001b\\\n",
       "\u001b[2;36m                    \u001b[0m         more sentences whose split count is higher than the split length.  \u001b[2m                   \u001b[0m\n"
      ]
     },
     "metadata": {},
     "output_type": "display_data"
    },
    {
     "name": "stderr",
     "output_type": "stream",
     "text": [
      "Preprocessing: 100%|██████████| 1/1 [00:00<00:00,  4.80docs/s]"
     ]
    },
    {
     "name": "stdout",
     "output_type": "stream",
     "text": [
      "Documents: 1\n",
      "Batches: 355\n"
     ]
    },
    {
     "name": "stderr",
     "output_type": "stream",
     "text": [
      "\n"
     ]
    }
   ],
   "source": [
    "# The converter turns the PDF into text we can process easily\n",
    "converter = PDFToTextConverter(remove_numeric_tables=True, valid_languages=[\"en\"])\n",
    "\n",
    "# Preprocessing pipelines can have several steps.\n",
    "# Ours clean empty lines, header, footers and whitespaces\n",
    "# and split the text into 150-char long batches, respecting\n",
    "# where the sentences naturally end and begin.\n",
    "preprocessor = PreProcessor(\n",
    "    clean_empty_lines=True,\n",
    "    clean_whitespace=True,\n",
    "    clean_header_footer=True,\n",
    "    split_by=\"word\",\n",
    "    split_length=150,\n",
    "    split_respect_sentence_boundary=True,\n",
    ")\n",
    "\n",
    "doc = converter.convert(file_path=\"The-AI-Act.pdf\", meta=None)[0]\n",
    "docs = preprocessor.process([doc])\n",
    "print(f\"Documents: 1\\nBatches: {len(docs)}\")"
   ]
  },
  {
   "cell_type": "markdown",
   "metadata": {},
   "source": [
    "Let's take a quick look at the batches we just generated.\n"
   ]
  },
  {
   "cell_type": "code",
   "execution_count": 10,
   "metadata": {},
   "outputs": [
    {
     "data": {
      "text/plain": [
       "'EN EN\\nEUROPEAN\\nCOMMISSION\\nProposal for a\\nREGULATION OF THE EUROPEAN PARLIAMENT AND OF THE COUNCIL\\nLAYING DOWN HARMONISED RULES ON ARTIFICIAL INTELLIGENCE\\n(ARTIFICIAL INTELLIGENCE ACT) AND AMENDING CERTAIN UNION\\nLEGISLATIVE ACTS\\x0cEN\\nEXPLANATORY MEMORANDUM\\n1. CONTEXT OF THE PROPOSAL\\n1.1. Reasons for and objectives of the proposal\\nThis explanatory memorandum accompanies the proposal for a Regulation laying down\\nharmonised rules on artificial intelligence (Artificial Intelligence Act). Artificial Int'"
      ]
     },
     "execution_count": 10,
     "metadata": {},
     "output_type": "execute_result"
    }
   ],
   "source": [
    "inputs = [doc.content for doc in docs]\n",
    "inputs[0][0:500]"
   ]
  },
  {
   "cell_type": "markdown",
   "metadata": {},
   "source": [
    "The document has been correctly batched, from one big document to 355 strings, 150-character long at maximum. This list of strings can now be used as input to generate a instruction dataset using `distilabel`.\n"
   ]
  },
  {
   "cell_type": "markdown",
   "metadata": {},
   "source": [
    "## Generating instructions with SelfInstructTask\n",
    "\n",
    "With out Inference Endpoint up and running, we should be able to generate instructions with distilabel. These instructions, made by the LLM through our endpoint, will form an instruction dataset, with instructions created from the data we just extracted.\n",
    "\n",
    "For this example, we are using a subset of 50 batches generated in the section above, to be gentle on performance.\n"
   ]
  },
  {
   "cell_type": "code",
   "execution_count": 11,
   "metadata": {},
   "outputs": [
    {
     "data": {
      "text/plain": [
       "Dataset({\n",
       "    features: ['input'],\n",
       "    num_rows: 50\n",
       "})"
      ]
     },
     "execution_count": 11,
     "metadata": {},
     "output_type": "execute_result"
    }
   ],
   "source": [
    "instructions_dataset = Dataset.from_dict({\"input\": inputs[0:50]})\n",
    "\n",
    "instructions_dataset"
   ]
  },
  {
   "cell_type": "markdown",
   "metadata": {},
   "source": [
    "With the `SelfInstructTask` class we can generate a Self-Instruct specitification for building the prompts, as done in the [Self-Instruct paper](https://arxiv.org/abs/2212.10560). `distilabel` will start from human-made input, in this case, the batches we created from the AI Act pdf, and it will generate instructions based on it. These instructions can then be reviewed using Argilla to keep the best ones.\n",
    "\n",
    "An application description can be passed as a parameter to specify the behaviour of the model; we want a model capable of answering our questions about the AI Act.\n"
   ]
  },
  {
   "cell_type": "code",
   "execution_count": 12,
   "metadata": {},
   "outputs": [],
   "source": [
    "instructions_task = SelfInstructTask(\n",
    "    application_description=\"A assistant that can answer questions about the AI Act made by the European Union.\"\n",
    ")"
   ]
  },
  {
   "cell_type": "markdown",
   "metadata": {},
   "source": [
    "Let's now define a generator, passing the `SelfInstructTask` object, and create a `Pipeline` object.\n"
   ]
  },
  {
   "cell_type": "code",
   "execution_count": 13,
   "metadata": {},
   "outputs": [],
   "source": [
    "instructions_generator = InferenceEndpointsLLM(\n",
    "    endpoint_name_or_model_id=os.getenv(\"HF_INFERENCE_ENDPOINT_NAME\"),  # type: ignore\n",
    "    endpoint_namespace=os.getenv(\"HF_NAMESPACE\"),  # type: ignore\n",
    "    token=os.getenv(\"HF_TOKEN\") or None,\n",
    "    task=instructions_task,\n",
    ")\n",
    "\n",
    "instructions_pipeline = Pipeline(generator=instructions_generator)"
   ]
  },
  {
   "cell_type": "markdown",
   "metadata": {},
   "source": [
    "Our pipeline is ready to be used to generate instructions. Let's do it!\n"
   ]
  },
  {
   "cell_type": "code",
   "execution_count": 14,
   "metadata": {},
   "outputs": [
    {
     "data": {
      "text/html": [
       "<pre style=\"white-space:pre;overflow-x:auto;line-height:normal;font-family:Menlo,'DejaVu Sans Mono',consolas,'Courier New',monospace\"><span style=\"color: #7fbfbf; text-decoration-color: #7fbfbf\">[01/15/24 10:40:50] </span><span style=\"color: #000080; text-decoration-color: #000080\">INFO    </span> INFO:distilabel:Executing dry-run<span style=\"color: #808000; text-decoration-color: #808000\">...</span>                                   <a href=\"file:///Users/ignacio/Documents/recognai/distilabel/src/distilabel/pipeline.py\" target=\"_blank\"><span style=\"color: #7f7f7f; text-decoration-color: #7f7f7f\">pipeline.py</span></a><span style=\"color: #7f7f7f; text-decoration-color: #7f7f7f\">:</span><a href=\"file:///Users/ignacio/Documents/recognai/distilabel/src/distilabel/pipeline.py#745\" target=\"_blank\"><span style=\"color: #7f7f7f; text-decoration-color: #7f7f7f\">745</span></a>\n",
       "</pre>\n"
      ],
      "text/plain": [
       "\u001b[2;36m[01/15/24 10:40:50]\u001b[0m\u001b[2;36m \u001b[0m\u001b[34mINFO    \u001b[0m INFO:distilabel:Executing dry-run\u001b[33m...\u001b[0m                                   \u001b]8;id=50536;file:///Users/ignacio/Documents/recognai/distilabel/src/distilabel/pipeline.py\u001b\\\u001b[2mpipeline.py\u001b[0m\u001b]8;;\u001b\\\u001b[2m:\u001b[0m\u001b]8;id=311619;file:///Users/ignacio/Documents/recognai/distilabel/src/distilabel/pipeline.py#745\u001b\\\u001b[2m745\u001b[0m\u001b]8;;\u001b\\\n"
      ]
     },
     "metadata": {},
     "output_type": "display_data"
    },
    {
     "data": {
      "text/html": [
       "<pre style=\"white-space:pre;overflow-x:auto;line-height:normal;font-family:Menlo,'DejaVu Sans Mono',consolas,'Courier New',monospace\"><span style=\"color: #7fbfbf; text-decoration-color: #7fbfbf\">                    </span><span style=\"color: #000080; text-decoration-color: #000080\">INFO    </span> INFO:distilabel:Processing batch <span style=\"color: #008080; text-decoration-color: #008080; font-weight: bold\">1</span> of <span style=\"color: #008080; text-decoration-color: #008080; font-weight: bold\">1</span><span style=\"color: #808000; text-decoration-color: #808000\">...</span>                             <a href=\"file:///Users/ignacio/Documents/recognai/distilabel/src/distilabel/pipeline.py\" target=\"_blank\"><span style=\"color: #7f7f7f; text-decoration-color: #7f7f7f\">pipeline.py</span></a><span style=\"color: #7f7f7f; text-decoration-color: #7f7f7f\">:</span><a href=\"file:///Users/ignacio/Documents/recognai/distilabel/src/distilabel/pipeline.py#567\" target=\"_blank\"><span style=\"color: #7f7f7f; text-decoration-color: #7f7f7f\">567</span></a>\n",
       "</pre>\n"
      ],
      "text/plain": [
       "\u001b[2;36m                   \u001b[0m\u001b[2;36m \u001b[0m\u001b[34mINFO    \u001b[0m INFO:distilabel:Processing batch \u001b[1;36m1\u001b[0m of \u001b[1;36m1\u001b[0m\u001b[33m...\u001b[0m                             \u001b]8;id=396970;file:///Users/ignacio/Documents/recognai/distilabel/src/distilabel/pipeline.py\u001b\\\u001b[2mpipeline.py\u001b[0m\u001b]8;;\u001b\\\u001b[2m:\u001b[0m\u001b]8;id=384631;file:///Users/ignacio/Documents/recognai/distilabel/src/distilabel/pipeline.py#567\u001b\\\u001b[2m567\u001b[0m\u001b]8;;\u001b\\\n"
      ]
     },
     "metadata": {},
     "output_type": "display_data"
    },
    {
     "data": {
      "text/html": [
       "<pre style=\"white-space:pre;overflow-x:auto;line-height:normal;font-family:Menlo,'DejaVu Sans Mono',consolas,'Courier New',monospace\"><span style=\"color: #7fbfbf; text-decoration-color: #7fbfbf\">                    </span><span style=\"color: #000080; text-decoration-color: #000080\">INFO    </span> INFO:distilabel:Calling generator for batch <span style=\"color: #008080; text-decoration-color: #008080; font-weight: bold\">1</span><span style=\"color: #808000; text-decoration-color: #808000\">...</span>                       <a href=\"file:///Users/ignacio/Documents/recognai/distilabel/src/distilabel/pipeline.py\" target=\"_blank\"><span style=\"color: #7f7f7f; text-decoration-color: #7f7f7f\">pipeline.py</span></a><span style=\"color: #7f7f7f; text-decoration-color: #7f7f7f\">:</span><a href=\"file:///Users/ignacio/Documents/recognai/distilabel/src/distilabel/pipeline.py#571\" target=\"_blank\"><span style=\"color: #7f7f7f; text-decoration-color: #7f7f7f\">571</span></a>\n",
       "</pre>\n"
      ],
      "text/plain": [
       "\u001b[2;36m                   \u001b[0m\u001b[2;36m \u001b[0m\u001b[34mINFO    \u001b[0m INFO:distilabel:Calling generator for batch \u001b[1;36m1\u001b[0m\u001b[33m...\u001b[0m                       \u001b]8;id=532033;file:///Users/ignacio/Documents/recognai/distilabel/src/distilabel/pipeline.py\u001b\\\u001b[2mpipeline.py\u001b[0m\u001b]8;;\u001b\\\u001b[2m:\u001b[0m\u001b]8;id=657169;file:///Users/ignacio/Documents/recognai/distilabel/src/distilabel/pipeline.py#571\u001b\\\u001b[2m571\u001b[0m\u001b]8;;\u001b\\\n"
      ]
     },
     "metadata": {},
     "output_type": "display_data"
    },
    {
     "name": "stderr",
     "output_type": "stream",
     "text": [
      "/Users/ignacio/Documents/recognai/distilabel/src/distilabel/llm/huggingface/inference_endpoints.py:177: UserWarning: No `prompt_format` has been specified and no `default_format` is set, so the prompt will be concatenated with a line-break and no specific formatting by default.\n",
      "  prompts = self._generate_prompts(inputs, default_format=None)\n"
     ]
    },
    {
     "data": {
      "text/html": [
       "<pre style=\"white-space:pre;overflow-x:auto;line-height:normal;font-family:Menlo,'DejaVu Sans Mono',consolas,'Courier New',monospace\">\n",
       "</pre>\n"
      ],
      "text/plain": [
       "\n"
      ]
     },
     "metadata": {},
     "output_type": "display_data"
    },
    {
     "name": "stderr",
     "output_type": "stream",
     "text": [
      "Flattening the indices: 100%|██████████| 1/1 [00:00<00:00, 107.00 examples/s]\n"
     ]
    },
    {
     "data": {
      "text/html": [
       "<pre style=\"white-space:pre;overflow-x:auto;line-height:normal;font-family:Menlo,'DejaVu Sans Mono',consolas,'Courier New',monospace\"><span style=\"color: #7fbfbf; text-decoration-color: #7fbfbf\">[01/15/24 10:40:54] </span><span style=\"color: #000080; text-decoration-color: #000080\">INFO    </span> INFO:distilabel:Dry-run executed with no issues. Starting the actual   <a href=\"file:///Users/ignacio/Documents/recognai/distilabel/src/distilabel/pipeline.py\" target=\"_blank\"><span style=\"color: #7f7f7f; text-decoration-color: #7f7f7f\">pipeline.py</span></a><span style=\"color: #7f7f7f; text-decoration-color: #7f7f7f\">:</span><a href=\"file:///Users/ignacio/Documents/recognai/distilabel/src/distilabel/pipeline.py#747\" target=\"_blank\"><span style=\"color: #7f7f7f; text-decoration-color: #7f7f7f\">747</span></a>\n",
       "<span style=\"color: #7fbfbf; text-decoration-color: #7fbfbf\">                    </span>         generation<span style=\"color: #808000; text-decoration-color: #808000\">...</span>                                                          <span style=\"color: #7f7f7f; text-decoration-color: #7f7f7f\">               </span>\n",
       "</pre>\n"
      ],
      "text/plain": [
       "\u001b[2;36m[01/15/24 10:40:54]\u001b[0m\u001b[2;36m \u001b[0m\u001b[34mINFO    \u001b[0m INFO:distilabel:Dry-run executed with no issues. Starting the actual   \u001b]8;id=641384;file:///Users/ignacio/Documents/recognai/distilabel/src/distilabel/pipeline.py\u001b\\\u001b[2mpipeline.py\u001b[0m\u001b]8;;\u001b\\\u001b[2m:\u001b[0m\u001b]8;id=173375;file:///Users/ignacio/Documents/recognai/distilabel/src/distilabel/pipeline.py#747\u001b\\\u001b[2m747\u001b[0m\u001b]8;;\u001b\\\n",
       "\u001b[2;36m                    \u001b[0m         generation\u001b[33m...\u001b[0m                                                          \u001b[2m               \u001b[0m\n"
      ]
     },
     "metadata": {},
     "output_type": "display_data"
    },
    {
     "data": {
      "text/html": [
       "<pre style=\"white-space:pre;overflow-x:auto;line-height:normal;font-family:Menlo,'DejaVu Sans Mono',consolas,'Courier New',monospace\">/Users/ignacio/Documents/recognai/distilabel/.venv/lib/python3.10/site-packages/rich/live.py:231: UserWarning: \n",
       "install \"ipywidgets\" for Jupyter support\n",
       "  warnings.warn('install \"ipywidgets\" for Jupyter support')\n",
       "</pre>\n"
      ],
      "text/plain": [
       "/Users/ignacio/Documents/recognai/distilabel/.venv/lib/python3.10/site-packages/rich/live.py:231: UserWarning: \n",
       "install \"ipywidgets\" for Jupyter support\n",
       "  warnings.warn('install \"ipywidgets\" for Jupyter support')\n"
      ]
     },
     "metadata": {},
     "output_type": "display_data"
    },
    {
     "data": {
      "text/html": [
       "<pre style=\"white-space:pre;overflow-x:auto;line-height:normal;font-family:Menlo,'DejaVu Sans Mono',consolas,'Courier New',monospace\"><span style=\"color: #7fbfbf; text-decoration-color: #7fbfbf\">                    </span><span style=\"color: #000080; text-decoration-color: #000080\">INFO    </span> INFO:distilabel:Processing batch <span style=\"color: #008080; text-decoration-color: #008080; font-weight: bold\">1</span> of <span style=\"color: #008080; text-decoration-color: #008080; font-weight: bold\">7</span><span style=\"color: #808000; text-decoration-color: #808000\">...</span>                             <a href=\"file:///Users/ignacio/Documents/recognai/distilabel/src/distilabel/pipeline.py\" target=\"_blank\"><span style=\"color: #7f7f7f; text-decoration-color: #7f7f7f\">pipeline.py</span></a><span style=\"color: #7f7f7f; text-decoration-color: #7f7f7f\">:</span><a href=\"file:///Users/ignacio/Documents/recognai/distilabel/src/distilabel/pipeline.py#567\" target=\"_blank\"><span style=\"color: #7f7f7f; text-decoration-color: #7f7f7f\">567</span></a>\n",
       "</pre>\n"
      ],
      "text/plain": [
       "\u001b[2;36m                   \u001b[0m\u001b[2;36m \u001b[0m\u001b[34mINFO    \u001b[0m INFO:distilabel:Processing batch \u001b[1;36m1\u001b[0m of \u001b[1;36m7\u001b[0m\u001b[33m...\u001b[0m                             \u001b]8;id=451209;file:///Users/ignacio/Documents/recognai/distilabel/src/distilabel/pipeline.py\u001b\\\u001b[2mpipeline.py\u001b[0m\u001b]8;;\u001b\\\u001b[2m:\u001b[0m\u001b]8;id=764704;file:///Users/ignacio/Documents/recognai/distilabel/src/distilabel/pipeline.py#567\u001b\\\u001b[2m567\u001b[0m\u001b]8;;\u001b\\\n"
      ]
     },
     "metadata": {},
     "output_type": "display_data"
    },
    {
     "data": {
      "text/html": [
       "<pre style=\"white-space:pre;overflow-x:auto;line-height:normal;font-family:Menlo,'DejaVu Sans Mono',consolas,'Courier New',monospace\"><span style=\"color: #7fbfbf; text-decoration-color: #7fbfbf\">                    </span><span style=\"color: #000080; text-decoration-color: #000080\">INFO    </span> INFO:distilabel:Calling generator for batch <span style=\"color: #008080; text-decoration-color: #008080; font-weight: bold\">1</span><span style=\"color: #808000; text-decoration-color: #808000\">...</span>                       <a href=\"file:///Users/ignacio/Documents/recognai/distilabel/src/distilabel/pipeline.py\" target=\"_blank\"><span style=\"color: #7f7f7f; text-decoration-color: #7f7f7f\">pipeline.py</span></a><span style=\"color: #7f7f7f; text-decoration-color: #7f7f7f\">:</span><a href=\"file:///Users/ignacio/Documents/recognai/distilabel/src/distilabel/pipeline.py#571\" target=\"_blank\"><span style=\"color: #7f7f7f; text-decoration-color: #7f7f7f\">571</span></a>\n",
       "</pre>\n"
      ],
      "text/plain": [
       "\u001b[2;36m                   \u001b[0m\u001b[2;36m \u001b[0m\u001b[34mINFO    \u001b[0m INFO:distilabel:Calling generator for batch \u001b[1;36m1\u001b[0m\u001b[33m...\u001b[0m                       \u001b]8;id=309512;file:///Users/ignacio/Documents/recognai/distilabel/src/distilabel/pipeline.py\u001b\\\u001b[2mpipeline.py\u001b[0m\u001b]8;;\u001b\\\u001b[2m:\u001b[0m\u001b]8;id=530787;file:///Users/ignacio/Documents/recognai/distilabel/src/distilabel/pipeline.py#571\u001b\\\u001b[2m571\u001b[0m\u001b]8;;\u001b\\\n"
      ]
     },
     "metadata": {},
     "output_type": "display_data"
    },
    {
     "data": {
      "text/html": [
       "<pre style=\"white-space:pre;overflow-x:auto;line-height:normal;font-family:Menlo,'DejaVu Sans Mono',consolas,'Courier New',monospace\"><span style=\"color: #7fbfbf; text-decoration-color: #7fbfbf\">[01/15/24 10:41:29] </span><span style=\"color: #000080; text-decoration-color: #000080\">INFO    </span> INFO:distilabel:Processing batch <span style=\"color: #008080; text-decoration-color: #008080; font-weight: bold\">2</span> of <span style=\"color: #008080; text-decoration-color: #008080; font-weight: bold\">7</span><span style=\"color: #808000; text-decoration-color: #808000\">...</span>                             <a href=\"file:///Users/ignacio/Documents/recognai/distilabel/src/distilabel/pipeline.py\" target=\"_blank\"><span style=\"color: #7f7f7f; text-decoration-color: #7f7f7f\">pipeline.py</span></a><span style=\"color: #7f7f7f; text-decoration-color: #7f7f7f\">:</span><a href=\"file:///Users/ignacio/Documents/recognai/distilabel/src/distilabel/pipeline.py#567\" target=\"_blank\"><span style=\"color: #7f7f7f; text-decoration-color: #7f7f7f\">567</span></a>\n",
       "</pre>\n"
      ],
      "text/plain": [
       "\u001b[2;36m[01/15/24 10:41:29]\u001b[0m\u001b[2;36m \u001b[0m\u001b[34mINFO    \u001b[0m INFO:distilabel:Processing batch \u001b[1;36m2\u001b[0m of \u001b[1;36m7\u001b[0m\u001b[33m...\u001b[0m                             \u001b]8;id=923995;file:///Users/ignacio/Documents/recognai/distilabel/src/distilabel/pipeline.py\u001b\\\u001b[2mpipeline.py\u001b[0m\u001b]8;;\u001b\\\u001b[2m:\u001b[0m\u001b]8;id=203802;file:///Users/ignacio/Documents/recognai/distilabel/src/distilabel/pipeline.py#567\u001b\\\u001b[2m567\u001b[0m\u001b]8;;\u001b\\\n"
      ]
     },
     "metadata": {},
     "output_type": "display_data"
    },
    {
     "data": {
      "text/html": [
       "<pre style=\"white-space:pre;overflow-x:auto;line-height:normal;font-family:Menlo,'DejaVu Sans Mono',consolas,'Courier New',monospace\"><span style=\"color: #7fbfbf; text-decoration-color: #7fbfbf\">                    </span><span style=\"color: #000080; text-decoration-color: #000080\">INFO    </span> INFO:distilabel:Calling generator for batch <span style=\"color: #008080; text-decoration-color: #008080; font-weight: bold\">2</span><span style=\"color: #808000; text-decoration-color: #808000\">...</span>                       <a href=\"file:///Users/ignacio/Documents/recognai/distilabel/src/distilabel/pipeline.py\" target=\"_blank\"><span style=\"color: #7f7f7f; text-decoration-color: #7f7f7f\">pipeline.py</span></a><span style=\"color: #7f7f7f; text-decoration-color: #7f7f7f\">:</span><a href=\"file:///Users/ignacio/Documents/recognai/distilabel/src/distilabel/pipeline.py#571\" target=\"_blank\"><span style=\"color: #7f7f7f; text-decoration-color: #7f7f7f\">571</span></a>\n",
       "</pre>\n"
      ],
      "text/plain": [
       "\u001b[2;36m                   \u001b[0m\u001b[2;36m \u001b[0m\u001b[34mINFO    \u001b[0m INFO:distilabel:Calling generator for batch \u001b[1;36m2\u001b[0m\u001b[33m...\u001b[0m                       \u001b]8;id=390397;file:///Users/ignacio/Documents/recognai/distilabel/src/distilabel/pipeline.py\u001b\\\u001b[2mpipeline.py\u001b[0m\u001b]8;;\u001b\\\u001b[2m:\u001b[0m\u001b]8;id=289826;file:///Users/ignacio/Documents/recognai/distilabel/src/distilabel/pipeline.py#571\u001b\\\u001b[2m571\u001b[0m\u001b]8;;\u001b\\\n"
      ]
     },
     "metadata": {},
     "output_type": "display_data"
    },
    {
     "data": {
      "text/html": [
       "<pre style=\"white-space:pre;overflow-x:auto;line-height:normal;font-family:Menlo,'DejaVu Sans Mono',consolas,'Courier New',monospace\"><span style=\"color: #7fbfbf; text-decoration-color: #7fbfbf\">[01/15/24 10:42:06] </span><span style=\"color: #000080; text-decoration-color: #000080\">INFO    </span> INFO:distilabel:Processing batch <span style=\"color: #008080; text-decoration-color: #008080; font-weight: bold\">3</span> of <span style=\"color: #008080; text-decoration-color: #008080; font-weight: bold\">7</span><span style=\"color: #808000; text-decoration-color: #808000\">...</span>                             <a href=\"file:///Users/ignacio/Documents/recognai/distilabel/src/distilabel/pipeline.py\" target=\"_blank\"><span style=\"color: #7f7f7f; text-decoration-color: #7f7f7f\">pipeline.py</span></a><span style=\"color: #7f7f7f; text-decoration-color: #7f7f7f\">:</span><a href=\"file:///Users/ignacio/Documents/recognai/distilabel/src/distilabel/pipeline.py#567\" target=\"_blank\"><span style=\"color: #7f7f7f; text-decoration-color: #7f7f7f\">567</span></a>\n",
       "</pre>\n"
      ],
      "text/plain": [
       "\u001b[2;36m[01/15/24 10:42:06]\u001b[0m\u001b[2;36m \u001b[0m\u001b[34mINFO    \u001b[0m INFO:distilabel:Processing batch \u001b[1;36m3\u001b[0m of \u001b[1;36m7\u001b[0m\u001b[33m...\u001b[0m                             \u001b]8;id=412896;file:///Users/ignacio/Documents/recognai/distilabel/src/distilabel/pipeline.py\u001b\\\u001b[2mpipeline.py\u001b[0m\u001b]8;;\u001b\\\u001b[2m:\u001b[0m\u001b]8;id=717042;file:///Users/ignacio/Documents/recognai/distilabel/src/distilabel/pipeline.py#567\u001b\\\u001b[2m567\u001b[0m\u001b]8;;\u001b\\\n"
      ]
     },
     "metadata": {},
     "output_type": "display_data"
    },
    {
     "data": {
      "text/html": [
       "<pre style=\"white-space:pre;overflow-x:auto;line-height:normal;font-family:Menlo,'DejaVu Sans Mono',consolas,'Courier New',monospace\"><span style=\"color: #7fbfbf; text-decoration-color: #7fbfbf\">                    </span><span style=\"color: #000080; text-decoration-color: #000080\">INFO    </span> INFO:distilabel:Calling generator for batch <span style=\"color: #008080; text-decoration-color: #008080; font-weight: bold\">3</span><span style=\"color: #808000; text-decoration-color: #808000\">...</span>                       <a href=\"file:///Users/ignacio/Documents/recognai/distilabel/src/distilabel/pipeline.py\" target=\"_blank\"><span style=\"color: #7f7f7f; text-decoration-color: #7f7f7f\">pipeline.py</span></a><span style=\"color: #7f7f7f; text-decoration-color: #7f7f7f\">:</span><a href=\"file:///Users/ignacio/Documents/recognai/distilabel/src/distilabel/pipeline.py#571\" target=\"_blank\"><span style=\"color: #7f7f7f; text-decoration-color: #7f7f7f\">571</span></a>\n",
       "</pre>\n"
      ],
      "text/plain": [
       "\u001b[2;36m                   \u001b[0m\u001b[2;36m \u001b[0m\u001b[34mINFO    \u001b[0m INFO:distilabel:Calling generator for batch \u001b[1;36m3\u001b[0m\u001b[33m...\u001b[0m                       \u001b]8;id=759970;file:///Users/ignacio/Documents/recognai/distilabel/src/distilabel/pipeline.py\u001b\\\u001b[2mpipeline.py\u001b[0m\u001b]8;;\u001b\\\u001b[2m:\u001b[0m\u001b]8;id=868304;file:///Users/ignacio/Documents/recognai/distilabel/src/distilabel/pipeline.py#571\u001b\\\u001b[2m571\u001b[0m\u001b]8;;\u001b\\\n"
      ]
     },
     "metadata": {},
     "output_type": "display_data"
    },
    {
     "data": {
      "text/html": [
       "<pre style=\"white-space:pre;overflow-x:auto;line-height:normal;font-family:Menlo,'DejaVu Sans Mono',consolas,'Courier New',monospace\"><span style=\"color: #7fbfbf; text-decoration-color: #7fbfbf\">[01/15/24 10:42:43] </span><span style=\"color: #000080; text-decoration-color: #000080\">INFO    </span> INFO:distilabel:Processing batch <span style=\"color: #008080; text-decoration-color: #008080; font-weight: bold\">4</span> of <span style=\"color: #008080; text-decoration-color: #008080; font-weight: bold\">7</span><span style=\"color: #808000; text-decoration-color: #808000\">...</span>                             <a href=\"file:///Users/ignacio/Documents/recognai/distilabel/src/distilabel/pipeline.py\" target=\"_blank\"><span style=\"color: #7f7f7f; text-decoration-color: #7f7f7f\">pipeline.py</span></a><span style=\"color: #7f7f7f; text-decoration-color: #7f7f7f\">:</span><a href=\"file:///Users/ignacio/Documents/recognai/distilabel/src/distilabel/pipeline.py#567\" target=\"_blank\"><span style=\"color: #7f7f7f; text-decoration-color: #7f7f7f\">567</span></a>\n",
       "</pre>\n"
      ],
      "text/plain": [
       "\u001b[2;36m[01/15/24 10:42:43]\u001b[0m\u001b[2;36m \u001b[0m\u001b[34mINFO    \u001b[0m INFO:distilabel:Processing batch \u001b[1;36m4\u001b[0m of \u001b[1;36m7\u001b[0m\u001b[33m...\u001b[0m                             \u001b]8;id=288246;file:///Users/ignacio/Documents/recognai/distilabel/src/distilabel/pipeline.py\u001b\\\u001b[2mpipeline.py\u001b[0m\u001b]8;;\u001b\\\u001b[2m:\u001b[0m\u001b]8;id=543255;file:///Users/ignacio/Documents/recognai/distilabel/src/distilabel/pipeline.py#567\u001b\\\u001b[2m567\u001b[0m\u001b]8;;\u001b\\\n"
      ]
     },
     "metadata": {},
     "output_type": "display_data"
    },
    {
     "data": {
      "text/html": [
       "<pre style=\"white-space:pre;overflow-x:auto;line-height:normal;font-family:Menlo,'DejaVu Sans Mono',consolas,'Courier New',monospace\"><span style=\"color: #7fbfbf; text-decoration-color: #7fbfbf\">                    </span><span style=\"color: #000080; text-decoration-color: #000080\">INFO    </span> INFO:distilabel:Calling generator for batch <span style=\"color: #008080; text-decoration-color: #008080; font-weight: bold\">4</span><span style=\"color: #808000; text-decoration-color: #808000\">...</span>                       <a href=\"file:///Users/ignacio/Documents/recognai/distilabel/src/distilabel/pipeline.py\" target=\"_blank\"><span style=\"color: #7f7f7f; text-decoration-color: #7f7f7f\">pipeline.py</span></a><span style=\"color: #7f7f7f; text-decoration-color: #7f7f7f\">:</span><a href=\"file:///Users/ignacio/Documents/recognai/distilabel/src/distilabel/pipeline.py#571\" target=\"_blank\"><span style=\"color: #7f7f7f; text-decoration-color: #7f7f7f\">571</span></a>\n",
       "</pre>\n"
      ],
      "text/plain": [
       "\u001b[2;36m                   \u001b[0m\u001b[2;36m \u001b[0m\u001b[34mINFO    \u001b[0m INFO:distilabel:Calling generator for batch \u001b[1;36m4\u001b[0m\u001b[33m...\u001b[0m                       \u001b]8;id=923214;file:///Users/ignacio/Documents/recognai/distilabel/src/distilabel/pipeline.py\u001b\\\u001b[2mpipeline.py\u001b[0m\u001b]8;;\u001b\\\u001b[2m:\u001b[0m\u001b]8;id=734512;file:///Users/ignacio/Documents/recognai/distilabel/src/distilabel/pipeline.py#571\u001b\\\u001b[2m571\u001b[0m\u001b]8;;\u001b\\\n"
      ]
     },
     "metadata": {},
     "output_type": "display_data"
    },
    {
     "data": {
      "text/html": [
       "<pre style=\"white-space:pre;overflow-x:auto;line-height:normal;font-family:Menlo,'DejaVu Sans Mono',consolas,'Courier New',monospace\"><span style=\"color: #7fbfbf; text-decoration-color: #7fbfbf\">[01/15/24 10:43:21] </span><span style=\"color: #000080; text-decoration-color: #000080\">INFO    </span> INFO:distilabel:Processing batch <span style=\"color: #008080; text-decoration-color: #008080; font-weight: bold\">5</span> of <span style=\"color: #008080; text-decoration-color: #008080; font-weight: bold\">7</span><span style=\"color: #808000; text-decoration-color: #808000\">...</span>                             <a href=\"file:///Users/ignacio/Documents/recognai/distilabel/src/distilabel/pipeline.py\" target=\"_blank\"><span style=\"color: #7f7f7f; text-decoration-color: #7f7f7f\">pipeline.py</span></a><span style=\"color: #7f7f7f; text-decoration-color: #7f7f7f\">:</span><a href=\"file:///Users/ignacio/Documents/recognai/distilabel/src/distilabel/pipeline.py#567\" target=\"_blank\"><span style=\"color: #7f7f7f; text-decoration-color: #7f7f7f\">567</span></a>\n",
       "</pre>\n"
      ],
      "text/plain": [
       "\u001b[2;36m[01/15/24 10:43:21]\u001b[0m\u001b[2;36m \u001b[0m\u001b[34mINFO    \u001b[0m INFO:distilabel:Processing batch \u001b[1;36m5\u001b[0m of \u001b[1;36m7\u001b[0m\u001b[33m...\u001b[0m                             \u001b]8;id=848404;file:///Users/ignacio/Documents/recognai/distilabel/src/distilabel/pipeline.py\u001b\\\u001b[2mpipeline.py\u001b[0m\u001b]8;;\u001b\\\u001b[2m:\u001b[0m\u001b]8;id=817169;file:///Users/ignacio/Documents/recognai/distilabel/src/distilabel/pipeline.py#567\u001b\\\u001b[2m567\u001b[0m\u001b]8;;\u001b\\\n"
      ]
     },
     "metadata": {},
     "output_type": "display_data"
    },
    {
     "data": {
      "text/html": [
       "<pre style=\"white-space:pre;overflow-x:auto;line-height:normal;font-family:Menlo,'DejaVu Sans Mono',consolas,'Courier New',monospace\"><span style=\"color: #7fbfbf; text-decoration-color: #7fbfbf\">                    </span><span style=\"color: #000080; text-decoration-color: #000080\">INFO    </span> INFO:distilabel:Calling generator for batch <span style=\"color: #008080; text-decoration-color: #008080; font-weight: bold\">5</span><span style=\"color: #808000; text-decoration-color: #808000\">...</span>                       <a href=\"file:///Users/ignacio/Documents/recognai/distilabel/src/distilabel/pipeline.py\" target=\"_blank\"><span style=\"color: #7f7f7f; text-decoration-color: #7f7f7f\">pipeline.py</span></a><span style=\"color: #7f7f7f; text-decoration-color: #7f7f7f\">:</span><a href=\"file:///Users/ignacio/Documents/recognai/distilabel/src/distilabel/pipeline.py#571\" target=\"_blank\"><span style=\"color: #7f7f7f; text-decoration-color: #7f7f7f\">571</span></a>\n",
       "</pre>\n"
      ],
      "text/plain": [
       "\u001b[2;36m                   \u001b[0m\u001b[2;36m \u001b[0m\u001b[34mINFO    \u001b[0m INFO:distilabel:Calling generator for batch \u001b[1;36m5\u001b[0m\u001b[33m...\u001b[0m                       \u001b]8;id=550988;file:///Users/ignacio/Documents/recognai/distilabel/src/distilabel/pipeline.py\u001b\\\u001b[2mpipeline.py\u001b[0m\u001b]8;;\u001b\\\u001b[2m:\u001b[0m\u001b]8;id=693456;file:///Users/ignacio/Documents/recognai/distilabel/src/distilabel/pipeline.py#571\u001b\\\u001b[2m571\u001b[0m\u001b]8;;\u001b\\\n"
      ]
     },
     "metadata": {},
     "output_type": "display_data"
    },
    {
     "data": {
      "text/html": [
       "<pre style=\"white-space:pre;overflow-x:auto;line-height:normal;font-family:Menlo,'DejaVu Sans Mono',consolas,'Courier New',monospace\"><span style=\"color: #7fbfbf; text-decoration-color: #7fbfbf\">[01/15/24 10:43:57] </span><span style=\"color: #000080; text-decoration-color: #000080\">INFO    </span> INFO:distilabel:Processing batch <span style=\"color: #008080; text-decoration-color: #008080; font-weight: bold\">6</span> of <span style=\"color: #008080; text-decoration-color: #008080; font-weight: bold\">7</span><span style=\"color: #808000; text-decoration-color: #808000\">...</span>                             <a href=\"file:///Users/ignacio/Documents/recognai/distilabel/src/distilabel/pipeline.py\" target=\"_blank\"><span style=\"color: #7f7f7f; text-decoration-color: #7f7f7f\">pipeline.py</span></a><span style=\"color: #7f7f7f; text-decoration-color: #7f7f7f\">:</span><a href=\"file:///Users/ignacio/Documents/recognai/distilabel/src/distilabel/pipeline.py#567\" target=\"_blank\"><span style=\"color: #7f7f7f; text-decoration-color: #7f7f7f\">567</span></a>\n",
       "</pre>\n"
      ],
      "text/plain": [
       "\u001b[2;36m[01/15/24 10:43:57]\u001b[0m\u001b[2;36m \u001b[0m\u001b[34mINFO    \u001b[0m INFO:distilabel:Processing batch \u001b[1;36m6\u001b[0m of \u001b[1;36m7\u001b[0m\u001b[33m...\u001b[0m                             \u001b]8;id=714782;file:///Users/ignacio/Documents/recognai/distilabel/src/distilabel/pipeline.py\u001b\\\u001b[2mpipeline.py\u001b[0m\u001b]8;;\u001b\\\u001b[2m:\u001b[0m\u001b]8;id=895291;file:///Users/ignacio/Documents/recognai/distilabel/src/distilabel/pipeline.py#567\u001b\\\u001b[2m567\u001b[0m\u001b]8;;\u001b\\\n"
      ]
     },
     "metadata": {},
     "output_type": "display_data"
    },
    {
     "data": {
      "text/html": [
       "<pre style=\"white-space:pre;overflow-x:auto;line-height:normal;font-family:Menlo,'DejaVu Sans Mono',consolas,'Courier New',monospace\"><span style=\"color: #7fbfbf; text-decoration-color: #7fbfbf\">                    </span><span style=\"color: #000080; text-decoration-color: #000080\">INFO    </span> INFO:distilabel:Calling generator for batch <span style=\"color: #008080; text-decoration-color: #008080; font-weight: bold\">6</span><span style=\"color: #808000; text-decoration-color: #808000\">...</span>                       <a href=\"file:///Users/ignacio/Documents/recognai/distilabel/src/distilabel/pipeline.py\" target=\"_blank\"><span style=\"color: #7f7f7f; text-decoration-color: #7f7f7f\">pipeline.py</span></a><span style=\"color: #7f7f7f; text-decoration-color: #7f7f7f\">:</span><a href=\"file:///Users/ignacio/Documents/recognai/distilabel/src/distilabel/pipeline.py#571\" target=\"_blank\"><span style=\"color: #7f7f7f; text-decoration-color: #7f7f7f\">571</span></a>\n",
       "</pre>\n"
      ],
      "text/plain": [
       "\u001b[2;36m                   \u001b[0m\u001b[2;36m \u001b[0m\u001b[34mINFO    \u001b[0m INFO:distilabel:Calling generator for batch \u001b[1;36m6\u001b[0m\u001b[33m...\u001b[0m                       \u001b]8;id=945491;file:///Users/ignacio/Documents/recognai/distilabel/src/distilabel/pipeline.py\u001b\\\u001b[2mpipeline.py\u001b[0m\u001b]8;;\u001b\\\u001b[2m:\u001b[0m\u001b]8;id=551721;file:///Users/ignacio/Documents/recognai/distilabel/src/distilabel/pipeline.py#571\u001b\\\u001b[2m571\u001b[0m\u001b]8;;\u001b\\\n"
      ]
     },
     "metadata": {},
     "output_type": "display_data"
    },
    {
     "data": {
      "text/html": [
       "<pre style=\"white-space:pre;overflow-x:auto;line-height:normal;font-family:Menlo,'DejaVu Sans Mono',consolas,'Courier New',monospace\"><span style=\"color: #7fbfbf; text-decoration-color: #7fbfbf\">[01/15/24 10:44:34] </span><span style=\"color: #000080; text-decoration-color: #000080\">INFO    </span> INFO:distilabel:Processing batch <span style=\"color: #008080; text-decoration-color: #008080; font-weight: bold\">7</span> of <span style=\"color: #008080; text-decoration-color: #008080; font-weight: bold\">7</span><span style=\"color: #808000; text-decoration-color: #808000\">...</span>                             <a href=\"file:///Users/ignacio/Documents/recognai/distilabel/src/distilabel/pipeline.py\" target=\"_blank\"><span style=\"color: #7f7f7f; text-decoration-color: #7f7f7f\">pipeline.py</span></a><span style=\"color: #7f7f7f; text-decoration-color: #7f7f7f\">:</span><a href=\"file:///Users/ignacio/Documents/recognai/distilabel/src/distilabel/pipeline.py#567\" target=\"_blank\"><span style=\"color: #7f7f7f; text-decoration-color: #7f7f7f\">567</span></a>\n",
       "</pre>\n"
      ],
      "text/plain": [
       "\u001b[2;36m[01/15/24 10:44:34]\u001b[0m\u001b[2;36m \u001b[0m\u001b[34mINFO    \u001b[0m INFO:distilabel:Processing batch \u001b[1;36m7\u001b[0m of \u001b[1;36m7\u001b[0m\u001b[33m...\u001b[0m                             \u001b]8;id=374538;file:///Users/ignacio/Documents/recognai/distilabel/src/distilabel/pipeline.py\u001b\\\u001b[2mpipeline.py\u001b[0m\u001b]8;;\u001b\\\u001b[2m:\u001b[0m\u001b]8;id=28715;file:///Users/ignacio/Documents/recognai/distilabel/src/distilabel/pipeline.py#567\u001b\\\u001b[2m567\u001b[0m\u001b]8;;\u001b\\\n"
      ]
     },
     "metadata": {},
     "output_type": "display_data"
    },
    {
     "data": {
      "text/html": [
       "<pre style=\"white-space:pre;overflow-x:auto;line-height:normal;font-family:Menlo,'DejaVu Sans Mono',consolas,'Courier New',monospace\"><span style=\"color: #7fbfbf; text-decoration-color: #7fbfbf\">                    </span><span style=\"color: #000080; text-decoration-color: #000080\">INFO    </span> INFO:distilabel:Calling generator for batch <span style=\"color: #008080; text-decoration-color: #008080; font-weight: bold\">7</span><span style=\"color: #808000; text-decoration-color: #808000\">...</span>                       <a href=\"file:///Users/ignacio/Documents/recognai/distilabel/src/distilabel/pipeline.py\" target=\"_blank\"><span style=\"color: #7f7f7f; text-decoration-color: #7f7f7f\">pipeline.py</span></a><span style=\"color: #7f7f7f; text-decoration-color: #7f7f7f\">:</span><a href=\"file:///Users/ignacio/Documents/recognai/distilabel/src/distilabel/pipeline.py#571\" target=\"_blank\"><span style=\"color: #7f7f7f; text-decoration-color: #7f7f7f\">571</span></a>\n",
       "</pre>\n"
      ],
      "text/plain": [
       "\u001b[2;36m                   \u001b[0m\u001b[2;36m \u001b[0m\u001b[34mINFO    \u001b[0m INFO:distilabel:Calling generator for batch \u001b[1;36m7\u001b[0m\u001b[33m...\u001b[0m                       \u001b]8;id=595736;file:///Users/ignacio/Documents/recognai/distilabel/src/distilabel/pipeline.py\u001b\\\u001b[2mpipeline.py\u001b[0m\u001b]8;;\u001b\\\u001b[2m:\u001b[0m\u001b]8;id=81630;file:///Users/ignacio/Documents/recognai/distilabel/src/distilabel/pipeline.py#571\u001b\\\u001b[2m571\u001b[0m\u001b]8;;\u001b\\\n"
      ]
     },
     "metadata": {},
     "output_type": "display_data"
    },
    {
     "data": {
      "text/html": [
       "<pre style=\"white-space:pre;overflow-x:auto;line-height:normal;font-family:Menlo,'DejaVu Sans Mono',consolas,'Courier New',monospace\"></pre>\n"
      ],
      "text/plain": []
     },
     "metadata": {},
     "output_type": "display_data"
    },
    {
     "data": {
      "text/html": [
       "<pre style=\"white-space:pre;overflow-x:auto;line-height:normal;font-family:Menlo,'DejaVu Sans Mono',consolas,'Courier New',monospace\">\n",
       "</pre>\n"
      ],
      "text/plain": [
       "\n"
      ]
     },
     "metadata": {},
     "output_type": "display_data"
    },
    {
     "name": "stderr",
     "output_type": "stream",
     "text": [
      "Flattening the indices: 100%|██████████| 50/50 [00:00<00:00, 15333.42 examples/s]\n",
      "Saving the dataset (1/1 shards): 100%|██████████| 50/50 [00:00<00:00, 11024.88 examples/s]\n"
     ]
    },
    {
     "data": {
      "text/html": [
       "<pre style=\"white-space:pre;overflow-x:auto;line-height:normal;font-family:Menlo,'DejaVu Sans Mono',consolas,'Courier New',monospace\"><span style=\"color: #7fbfbf; text-decoration-color: #7fbfbf\">[01/15/24 10:44:43] </span><span style=\"color: #000080; text-decoration-color: #000080\">INFO    </span> INFO:distilabel:Final dataset saved at                                 <a href=\"file:///Users/ignacio/Documents/recognai/distilabel/src/distilabel/pipeline.py\" target=\"_blank\"><span style=\"color: #7f7f7f; text-decoration-color: #7f7f7f\">pipeline.py</span></a><span style=\"color: #7f7f7f; text-decoration-color: #7f7f7f\">:</span><a href=\"file:///Users/ignacio/Documents/recognai/distilabel/src/distilabel/pipeline.py#656\" target=\"_blank\"><span style=\"color: #7f7f7f; text-decoration-color: #7f7f7f\">656</span></a>\n",
       "<span style=\"color: #7fbfbf; text-decoration-color: #7fbfbf\">                    </span>         <span style=\"color: #800080; text-decoration-color: #800080\">/Users/ignacio/Documents/recognai/distilabel/docs/tutorials/</span><span style=\"color: #ff00ff; text-decoration-color: #ff00ff\">ckpt</span>       <span style=\"color: #7f7f7f; text-decoration-color: #7f7f7f\">               </span>\n",
       "</pre>\n"
      ],
      "text/plain": [
       "\u001b[2;36m[01/15/24 10:44:43]\u001b[0m\u001b[2;36m \u001b[0m\u001b[34mINFO    \u001b[0m INFO:distilabel:Final dataset saved at                                 \u001b]8;id=958996;file:///Users/ignacio/Documents/recognai/distilabel/src/distilabel/pipeline.py\u001b\\\u001b[2mpipeline.py\u001b[0m\u001b]8;;\u001b\\\u001b[2m:\u001b[0m\u001b]8;id=796296;file:///Users/ignacio/Documents/recognai/distilabel/src/distilabel/pipeline.py#656\u001b\\\u001b[2m656\u001b[0m\u001b]8;;\u001b\\\n",
       "\u001b[2;36m                    \u001b[0m         \u001b[35m/Users/ignacio/Documents/recognai/distilabel/docs/tutorials/\u001b[0m\u001b[95mckpt\u001b[0m       \u001b[2m               \u001b[0m\n"
      ]
     },
     "metadata": {},
     "output_type": "display_data"
    },
    {
     "data": {
      "text/html": [
       "<pre style=\"white-space:pre;overflow-x:auto;line-height:normal;font-family:Menlo,'DejaVu Sans Mono',consolas,'Courier New',monospace\">\n",
       "</pre>\n"
      ],
      "text/plain": [
       "\n"
      ]
     },
     "metadata": {},
     "output_type": "display_data"
    }
   ],
   "source": [
    "generated_instructions = instructions_pipeline.generate(\n",
    "    dataset=instructions_dataset, num_generations=1, batch_size=8\n",
    ")"
   ]
  },
  {
   "cell_type": "markdown",
   "metadata": {},
   "source": [
    "The pipeline has succesfully generated instructions given the topics and the behaviour passed as input. Let's gather all those instructions and see how the look.\n"
   ]
  },
  {
   "cell_type": "code",
   "execution_count": 15,
   "metadata": {},
   "outputs": [
    {
     "name": "stdout",
     "output_type": "stream",
     "text": [
      "Number of generated instructions: 178\n",
      "What are the reasons for and objectives of the proposal for a Regulation laying down harmonised rules on artificial intelligence?\n",
      "How can artificial intelligence improve prediction, optimise operations and resource allocation, and personalise service delivery?\n",
      "What benefits can artificial intelligence bring to the European economy and society as a whole?\n",
      "How can the use of artificial intelligence support socially and environmentally beneficial outcomes?\n",
      "What are the high-impact sectors that require AI action according to the AI Act by the European Union?\n"
     ]
    }
   ],
   "source": [
    "instructions = []\n",
    "for generations in generated_instructions[\"instructions\"]:\n",
    "    for generation in generations:\n",
    "        instructions.extend(generation)\n",
    "\n",
    "print(f\"Number of generated instructions: {len(instructions)}\")\n",
    "\n",
    "for instruction in instructions[:5]:\n",
    "    print(instruction)"
   ]
  },
  {
   "cell_type": "markdown",
   "metadata": {},
   "source": [
    "These initial intructions form our instruction dataset. Following the human-in-the-loop approach, we should push the instructions to Argilla to visualize them and be able to rank them in terms of quality. Those annotations are essential to make quality data, ensuring a better performance of the final model. Nevertheless, this step is optional.\n"
   ]
  },
  {
   "cell_type": "markdown",
   "metadata": {},
   "source": [
    "### Pushing the instruction dataset to Argilla to visualize and annotate.\n",
    "\n",
    "Let's take a quick look at the instructions generated by `SelfInstructTask`.\n"
   ]
  },
  {
   "cell_type": "code",
   "execution_count": 16,
   "metadata": {},
   "outputs": [
    {
     "data": {
      "text/plain": [
       "{'input': 'EN EN\\nEUROPEAN\\nCOMMISSION\\nProposal for a\\nREGULATION OF THE EUROPEAN PARLIAMENT AND OF THE COUNCIL\\nLAYING DOWN HARMONISED RULES ON ARTIFICIAL INTELLIGENCE\\n(ARTIFICIAL INTELLIGENCE ACT) AND AMENDING CERTAIN UNION\\nLEGISLATIVE ACTS\\x0cEN\\nEXPLANATORY MEMORANDUM\\n1. CONTEXT OF THE PROPOSAL\\n1.1. Reasons for and objectives of the proposal\\nThis explanatory memorandum accompanies the proposal for a Regulation laying down\\nharmonised rules on artificial intelligence (Artificial Intelligence Act). Artificial Intelligence\\n(AI) is a fast evolving family of technologies that can bring a wide array of economic and\\nsocietal benefits across the entire spectrum of industries and social activities. By improving\\nprediction, optimising operations and resource allocation, and personalising service delivery,\\nthe use of artificial intelligence can support socially and environmentally beneficial outcomes\\nand provide key competitive advantages to companies and the European economy. ',\n",
       " 'generation_model': ['argilla/notus-7b-v1'],\n",
       " 'generation_prompt': ['You are an expert prompt writer, writing the best and most diverse prompts for a variety of tasks. You are given a task description and a set of instructions for how to write the prompts for an specific AI application.\\n# Task Description\\nDevelop 5 user queries that can be received by the given AI application and applicable to the provided context. Emphasize diversity in verbs and linguistic structures within the model\\'s textual capabilities.\\n\\n# Criteria for Queries\\nIncorporate a diverse range of verbs, avoiding repetition.\\nEnsure queries are compatible with AI model\\'s text generation functions and are limited to 1-2 sentences.\\nDesign queries to be self-contained and standalone.\\nBlend interrogative (e.g., \"What is the significance of x?\") and imperative (e.g., \"Detail the process of x.\") styles.\\nWrite each query on a separate line and avoid using numbered lists or bullet points.\\n\\n# AI Application\\nA assistant that can answer questions about the AI Act made by the European Union.\\n\\n# Context\\nEN EN\\nEUROPEAN\\nCOMMISSION\\nProposal for a\\nREGULATION OF THE EUROPEAN PARLIAMENT AND OF THE COUNCIL\\nLAYING DOWN HARMONISED RULES ON ARTIFICIAL INTELLIGENCE\\n(ARTIFICIAL INTELLIGENCE ACT) AND AMENDING CERTAIN UNION\\nLEGISLATIVE ACTS\\x0cEN\\nEXPLANATORY MEMORANDUM\\n1. CONTEXT OF THE PROPOSAL\\n1.1. Reasons for and objectives of the proposal\\nThis explanatory memorandum accompanies the proposal for a Regulation laying down\\nharmonised rules on artificial intelligence (Artificial Intelligence Act). Artificial Intelligence\\n(AI) is a fast evolving family of technologies that can bring a wide array of economic and\\nsocietal benefits across the entire spectrum of industries and social activities. By improving\\nprediction, optimising operations and resource allocation, and personalising service delivery,\\nthe use of artificial intelligence can support socially and environmentally beneficial outcomes\\nand provide key competitive advantages to companies and the European economy. \\n\\n# Output\\n'],\n",
       " 'raw_generation_responses': ['1. What are the reasons for and objectives of the proposal for a Regulation laying down harmonised rules on artificial intelligence?\\n2. How can artificial intelligence improve prediction, optimise operations and resource allocation, and personalise service delivery?\\n3. What benefits can artificial intelligence bring to the European economy and society as a whole?\\n4. How can the use of artificial intelligence support socially and environmentally beneficial outcomes?\\n5. What competitive advantages can companies gain from using artificial intelligence?'],\n",
       " 'instructions': [['What are the reasons for and objectives of the proposal for a Regulation laying down harmonised rules on artificial intelligence?',\n",
       "   'How can artificial intelligence improve prediction, optimise operations and resource allocation, and personalise service delivery?',\n",
       "   'What benefits can artificial intelligence bring to the European economy and society as a whole?',\n",
       "   'How can the use of artificial intelligence support socially and environmentally beneficial outcomes?']]}"
      ]
     },
     "execution_count": 16,
     "metadata": {},
     "output_type": "execute_result"
    }
   ],
   "source": [
    "generated_instructions[0]"
   ]
  },
  {
   "cell_type": "markdown",
   "metadata": {},
   "source": [
    "For each input, i.e., each batch of the AI Act pdf file, we have a generator prompt, with general guidelines on how to behave, as well as the application description parameter. 4 instructions per input have been generated.\n",
    "\n",
    "Now it's the perfect time to upload the instruction dataset to Argilla, review it and manually annotate it."
   ]
  },
  {
   "cell_type": "code",
   "execution_count": 15,
   "metadata": {},
   "outputs": [
    {
     "data": {
      "text/plain": [
       "FeedbackRecord(fields={'input': 'EN EN\\nEUROPEAN\\nCOMMISSION\\nProposal for a\\nREGULATION OF THE EUROPEAN PARLIAMENT AND OF THE COUNCIL\\nLAYING DOWN HARMONISED RULES ON ARTIFICIAL INTELLIGENCE\\n(ARTIFICIAL INTELLIGENCE ACT) AND AMENDING CERTAIN UNION\\nLEGISLATIVE ACTS\\x0cEN\\nEXPLANATORY MEMORANDUM\\n1. CONTEXT OF THE PROPOSAL\\n1.1. Reasons for and objectives of the proposal\\nThis explanatory memorandum accompanies the proposal for a Regulation laying down\\nharmonised rules on artificial intelligence (Artificial Intelligence Act). Artificial Intelligence\\n(AI) is a fast evolving family of technologies that can bring a wide array of economic and\\nsocietal benefits across the entire spectrum of industries and social activities. By improving\\nprediction, optimising operations and resource allocation, and personalising service delivery,\\nthe use of artificial intelligence can support socially and environmentally beneficial outcomes\\nand provide key competitive advantages to companies and the European economy.', 'instruction': 'W'}, metadata={'length-input': 964, 'length-instruction': 1, 'generation-model': 'argilla/notus-7b-v1'}, vectors={}, responses=[], suggestions=(), external_id=None)"
      ]
     },
     "execution_count": 15,
     "metadata": {},
     "output_type": "execute_result"
    }
   ],
   "source": [
    "instructions_rg_dataset = generated_instructions.to_argilla()\n",
    "instructions_rg_dataset[0]"
   ]
  },
  {
   "cell_type": "code",
   "execution_count": null,
   "metadata": {},
   "outputs": [],
   "source": [
    "instructions_rg_dataset.push_to_argilla(name=f\"notus_AI_instructions\")"
   ]
  },
  {
   "cell_type": "markdown",
   "metadata": {},
   "source": [
    "In the Argilla UI, each tuple input-instruction is visualized individually, and can be individually annotated.\n",
    "\n",
    "![](../assets/tutorials-assets/instrucion_dataset_ui.png)\n"
   ]
  },
  {
   "cell_type": "markdown",
   "metadata": {},
   "source": [
    "## Generate a Preference Dataset using an Ultrafeedback text quality task.\n",
    "\n",
    "Once we have our instruction dataset, we are going to create a preference dataset through the UltraFeedback text quality task. This is a type of task used in NLP used to evaluate the quality of text generated; our goal is to provide detailed feedback on the quality of the generated text, beyond a binary label.\n",
    "\n",
    "Our `pipeline()` method allows us to create a `Pipeline` instance with the provided LLMs for a given task, which is useful whenever you want to use a pre-defined or custom `Pipeline` for a given task. We will specify our task and subtask, the generator we want to use (in this case, one based in a Text Generator Task) and our OpenAI API key.\n"
   ]
  },
  {
   "cell_type": "code",
   "execution_count": null,
   "metadata": {},
   "outputs": [],
   "source": [
    "preference_pipeline = pipeline(\n",
    "    \"preference\",\n",
    "    \"instruction-following\",\n",
    "    generator=InferenceEndpointsLLM(\n",
    "        endpoint_name_or_model_id=os.getenv(\"HF_INFERENCE_ENDPOINT_NAME\"),  # type: ignore\n",
    "        endpoint_namespace=os.getenv(\"HF_NAMESPACE\", None),\n",
    "        task=TextGenerationTask(),\n",
    "        max_new_tokens=256,\n",
    "        num_threads=2,\n",
    "        temperature=0.3,\n",
    "    ),\n",
    "    max_new_tokens=256,\n",
    "    num_threads=2,\n",
    "    openai_api_key=os.getenv(\"OPENAI_API_KEY\"),\n",
    "    temperature=0.0,\n",
    ")"
   ]
  },
  {
   "cell_type": "markdown",
   "metadata": {},
   "source": [
    "We also need to retrieve our instruction dataset from Argilla, as it will be the input of this pipeline.\n"
   ]
  },
  {
   "cell_type": "code",
   "execution_count": null,
   "metadata": {},
   "outputs": [],
   "source": [
    "remote_dataset = rg.FeedbackDataset.from_argilla(\n",
    "    \"notus_AI_instructions\", workspace=\"admin\"\n",
    ")\n",
    "instructions_dataset = remote_dataset.pull(max_records=100)  # get first 100 records\n",
    "\n",
    "instructions_dataset = instructions_dataset.format_as(\"datasets\")\n",
    "instructions_dataset"
   ]
  },
  {
   "cell_type": "code",
   "execution_count": null,
   "metadata": {},
   "outputs": [],
   "source": [
    "instructions_dataset[0]"
   ]
  },
  {
   "cell_type": "markdown",
   "metadata": {},
   "source": [
    "Before generating the text based on our instructions, we need to mingle a little bit with the dataset. From the previous section, we still have our old input, the batches from the PDF. We have to change that to the instructions that we generated."
   ]
  },
  {
   "cell_type": "code",
   "execution_count": null,
   "metadata": {},
   "outputs": [],
   "source": [
    "instructions_dataset = instructions_dataset.rename_columns({\"input\": \"context\", \"instruction\": \"input\"})"
   ]
  },
  {
   "cell_type": "markdown",
   "metadata": {},
   "source": [
    "Now, let's build a dataset by using the pipeline we just created, and the topics from which our instructions were generated.\n"
   ]
  },
  {
   "cell_type": "code",
   "execution_count": null,
   "metadata": {},
   "outputs": [],
   "source": [
    "preference_dataset = preference_pipeline.generate(\n",
    "    instructions_dataset,  # type: ignore\n",
    "    num_generations=2,\n",
    "    batch_size=8,\n",
    "    checkpoint_strategy=True,\n",
    "    display_progress_bar=True,\n",
    ")"
   ]
  },
  {
   "cell_type": "markdown",
   "metadata": {},
   "source": [
    "Let's take a look at an instance of the preference dataset\n"
   ]
  },
  {
   "cell_type": "code",
   "execution_count": null,
   "metadata": {},
   "outputs": [],
   "source": [
    "preference_dataset[0]"
   ]
  },
  {
   "cell_type": "markdown",
   "metadata": {},
   "source": [
    "### Upload the preference dataset to Argilla to annotate.\n",
    "\n",
    "Once our preference dataset has been correctly generated, the Argilla UI is the best tool at our disposal to visualize it and annotate it. As for the instruction dataset, we just have to convert it to an Argilla Feedback Dataset, and push it to Argilla.\n"
   ]
  },
  {
   "cell_type": "code",
   "execution_count": null,
   "metadata": {},
   "outputs": [],
   "source": [
    "# Uploading the Preference Dataset\n",
    "preference_rg_dataset = preference_dataset.to_argilla()\n",
    "\n",
    "# Adding the context as a metadata property in the new Feedback dataset, as this\n",
    "# information will be useful later.\n",
    "for record_feedback, record_huggingface in zip(\n",
    "    preference_rg_dataset, preference_dataset\n",
    "):\n",
    "    record_feedback.metadata[\"context\"] = record_huggingface[\"context\"]\n",
    "\n",
    "preference_rg_dataset.push_to_argilla(name=f\"notus_AI_preference\")"
   ]
  },
  {
   "cell_type": "markdown",
   "metadata": {},
   "source": [
    "In the Argilla UI, we can see the input (an instruction), and the two generations that the LLM created out of it.\n",
    "\n",
    "![](../assets/tutorials-assets/preference_dataset_ui.png)\n"
   ]
  },
  {
   "cell_type": "markdown",
   "metadata": {},
   "source": [
    "## Conclusions\n",
    "\n",
    "To conclude, we have gone through an end-to-end example of distilabel. We've set up an Inference Endpoint, defined a distilabel pipeline that extracts information from a PDF, created and manually reviewed the instruction and preference dataset created from that input. The final preference dataset is perfect for fine-tuning, and you can easily do this using the ArgillaTrainer from Argilla. Have a look at these resources if you want to go further:\n",
    "\n",
    "- [Train a Model with ArgillaTrainer](https://docs.argilla.io/en/latest/tutorials_and_integrations/tutorials/feedback/end2end_examples/train-model-006.html)\n",
    "- [Ⓜ️ Finetuning LLMs as chat assistants: Supervised Finetuning on Mistral 7B](https://docs.argilla.io/en/latest/tutorials_and_integrations/tutorials/feedback/training-llm-mistral-sft.html)\n",
    "- [🌠 Improving RAG by Optimizing Retrieval and Reranking Models](https://docs.argilla.io/en/latest/tutorials_and_integrations/tutorials/feedback/fine-tuning-sentencesimilarity-rag.html)\n"
   ]
  }
 ],
 "metadata": {
  "kernelspec": {
   "display_name": "distilabel",
   "language": "python",
   "name": "python3"
  },
  "language_info": {
   "codemirror_mode": {
    "name": "ipython",
    "version": 3
   },
   "file_extension": ".py",
   "mimetype": "text/x-python",
   "name": "python",
   "nbconvert_exporter": "python",
   "pygments_lexer": "ipython3",
   "version": "3.10.13"
  }
 },
 "nbformat": 4,
 "nbformat_minor": 2
}
