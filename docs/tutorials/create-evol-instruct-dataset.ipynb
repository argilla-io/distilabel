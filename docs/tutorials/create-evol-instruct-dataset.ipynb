{
 "cells": [
  {
   "cell_type": "markdown",
   "metadata": {},
   "source": [
    "# 🧙 Create an evol-instruct dataset\n",
    "\n",
    "[![Open In Colab](https://colab.research.google.com/assets/colab-badge.svg)](https://colab.research.google.com/github/argilla-io/distilabel/blob/main/docs/tutorials/create-evol-instruct-dataset.ipynb) [![Open Source in Github](https://img.shields.io/badge/github-view%20source-black.svg)](https://github.com/argilla-io/distilabel/blob/main/docs/tutorials/create-evol-instruct-dataset.ipynb)\n",
    "\n",
    "In this tutorial, we'll develop an evol-instruct dataset by employing the approach outlined in [\"WizardLM: Empowering Large Language Models to Follow Complex Instructions\"](https://arxiv.org/pdf/2304.12244.pdf) using `distilabel` and `argilla`. In the next section, we will describe the process in detail. So, let's get started! 🪄"
   ]
  },
  {
   "cell_type": "markdown",
   "metadata": {},
   "source": [
    "## Introduction\n",
    "\n",
    "This paper proposes a new method, **Evol-Instruct**, to synthetically create a dataset with open-domain instructions of varying complexity using *gpt-3.5-turbo*. The resulting dataset, combined with the original, was used to fine-tune LLaMa, leading to the creation of WizardLM. This model surpasses ChatGPT in both human and automatic evaluations, demonstrating more than 90% of ChatGPT's capabilities in 17 out of 29 skills.\n",
    "\n",
    "In this tutorial, we will only focus on *Evol-Instruct* approach to create a more complex dataset. From an *initial dataset* that will be the seed for the evolution process, the steps for each epoch (determined as M=4) are as follows:\n",
    "\n",
    "1. **Intruction Evolving**: Use *gpt-3.5-turbo* with predefined prompts to generate the evolved instructions. These prompts can be of two types: *in-depth evolving* (includes adding constraints, deepening, concretizing, increasing reasoning, and complicating the input) and *in-breath evolving* (includes mutation). The complicating prompt is the only one not applied as it needs in-context examples. Then, only one of the remaining five is selected randomly to be applied to the input instruction. You can check the original code [here](https://github.com/nlpxucan/WizardLM/tree/main/Evol_Instruct).\n",
    "2. **Elimination Evolving**\n",
    "   * The instruction evolving step may fail, so the new instructions are filtered according to the following criteria:\n",
    "     1. The evolved instruction *does not provide any information* gain. Automatically evaluated with ChatGPT.\n",
    "     2. The evolved instruction contains *\"sorry\" and is less than 80 words*.\n",
    "     3. The evolved instruction only contains *punctuation and stop words*.\n",
    "     4. The evolved instruction *copies words* from the evolving prompt.\n",
    "   * If the evolved instruction passes the previous criteria, it is added to the pool of new instructions and also will be used as input for the next iteration. If not, it is dropped and the original instruction is the one used for the next iteration.\n",
    "\n",
    "Once, the evolved instructions are generated, they use the same LLM to **generate the corresponding responses**.\n",
    "\n",
    "Finally, the resulting dataset is the combination of the original and the new instructions generated in each epoch. In the next section, we will see how to implement this process using `distilabel` and `argilla`."
   ]
  },
  {
   "cell_type": "markdown",
   "metadata": {},
   "source": [
    "## Getting started"
   ]
  },
  {
   "cell_type": "markdown",
   "metadata": {},
   "source": [
    "### Install dependencies\n",
    "\n",
    "Let’s start by installing the required dependencies to run distilabel, Argilla, and the remainder of this tutorial."
   ]
  },
  {
   "cell_type": "code",
   "execution_count": null,
   "metadata": {},
   "outputs": [],
   "source": [
    "%pip install -q -U \"distilabel[openai,argilla]\" --upgrade"
   ]
  },
  {
   "cell_type": "markdown",
   "metadata": {},
   "source": [
    "Then we can import the required libraries."
   ]
  },
  {
   "cell_type": "code",
   "execution_count": 1,
   "metadata": {},
   "outputs": [],
   "source": [
    "import itertools\n",
    "import os\n",
    "import string\n",
    "import time\n",
    "from dataclasses import dataclass\n",
    "from typing import Dict, List\n",
    "\n",
    "import argilla as rg\n",
    "from datasets import Dataset, load_dataset\n",
    "from distilabel.llm import LLM, OpenAILLM\n",
    "from distilabel.pipeline import Pipeline\n",
    "from distilabel.tasks import EvolInstructTask, Prompt, TextGenerationTask"
   ]
  },
  {
   "cell_type": "markdown",
   "metadata": {},
   "source": [
    "### Environment variables\n",
    "\n",
    "Finally, we will also need to provide some environment variables if they haven't been set already."
   ]
  },
  {
   "cell_type": "code",
   "execution_count": 29,
   "metadata": {},
   "outputs": [],
   "source": [
    "# OpenAI API Key\n",
    "os.environ[\"OPENAI_API_KEY\"] = 'sk-...'\n",
    "\n",
    "# Argilla API Key\n",
    "os.environ[\"ARGILLA_API_URL\"] = \"https://your-argilla-api-key\"\n",
    "os.environ[\"ARGILLA_API_KEY\"] = \"owner.apikey\"\n",
    "\n",
    "# HF Token\n",
    "os.environ['HF_TOKEN'] = \"hf_...\""
   ]
  },
  {
   "cell_type": "markdown",
   "metadata": {},
   "source": [
    "## Prepare the initial dataset\n",
    "\n",
    "The first step is to prepare the initial dataset that will be used for the evolution process. Following the same idea as shown in an example from the paper, we will use [camel-ai/math](https://huggingface.co/datasets/camel-ai/math) available in HuggingFace, a math dataset composed of 50K problem-solution pairs obtained using GPT-4. However, for the sake of this tutorial's example, we will only use 20 samples and the *message_1* column as input."
   ]
  },
  {
   "cell_type": "code",
   "execution_count": 3,
   "metadata": {},
   "outputs": [],
   "source": [
    "# Load the dataset\n",
    "hf_dataset = load_dataset(\"camel-ai/math\", split=\"train\")\n",
    "\n",
    "# Get our initial dataset\n",
    "initial_dataset = (\n",
    "    hf_dataset\n",
    "    .select_columns([\"message_1\"])\n",
    "    .rename_column(\"message_1\", \"input\")\n",
    ")\n",
    "\n",
    "# Select a subset\n",
    "initial_dataset = initial_dataset.shuffle(seed=5).select(range(3))"
   ]
  },
  {
   "cell_type": "code",
   "execution_count": 4,
   "metadata": {},
   "outputs": [
    {
     "data": {
      "text/plain": [
       "Dataset({\n",
       "    features: ['input'],\n",
       "    num_rows: 3\n",
       "})"
      ]
     },
     "execution_count": 4,
     "metadata": {},
     "output_type": "execute_result"
    }
   ],
   "source": [
    "initial_dataset"
   ]
  },
  {
   "cell_type": "markdown",
   "metadata": {},
   "source": [
    "## Define our `LLM`s and `Tasks`\n",
    "\n",
    "For our case, we will need to set two different LLMs with their corresponding tasks: one for the instruction evolving and another for the elimination evolving step 1."
   ]
  },
  {
   "cell_type": "markdown",
   "metadata": {},
   "source": [
    "### Instruction Evolving LLM\n",
    "\n",
    "The first step is to define the LLM that will be used to generate the evolved instructions. According to the paper, we will use *gpt-3.5-turbo* as the language model and the task `EvolInstructTask`, also we will set some parameters (Section 4.3). Take into account that the `EvolInstructTask` will perform the random selection of the evolving prompt and the filtering of the evolved instructions up the first step from the elimination evolving related to *equal prompts*."
   ]
  },
  {
   "cell_type": "code",
   "execution_count": 5,
   "metadata": {},
   "outputs": [],
   "source": [
    "# Define our LLM\n",
    "evolver_llm = OpenAILLM(\n",
    "    task=EvolInstructTask(),\n",
    "    api_key=os.getenv(\"OPENAI_API_KEY\"),\n",
    "    model= \"gpt-3.5-turbo\",\n",
    "    num_threads=4,\n",
    "    max_new_tokens=2048,\n",
    "    temperature=1,\n",
    "    frequency_penalty=0.0,\n",
    "    top_p=0.9,\n",
    ")"
   ]
  },
  {
   "cell_type": "markdown",
   "metadata": {},
   "source": [
    "### Elimination Evolving LLM\n",
    "\n",
    "As part of the elimination step, it was stated to ask ChatGPT if the original prompt and the evolved one from the current epoch are equal. In order to do so, we will need to define a LLM with the corresponding task. As the task does not exist, we will customize one based on `TextGenerationTask` from `distilabel` indicating how to generate the prompt and parse the output."
   ]
  },
  {
   "cell_type": "code",
   "execution_count": 2,
   "metadata": {},
   "outputs": [],
   "source": [
    "# Indicate the prompt (Appendix G)\n",
    "elimination_equal_prompt = \"\"\"Here are two Instructions, do you think they are equal to each other and meet the following requirements?:\n",
    "    1. They have the same constraints and requirements.\n",
    "    2. They have the same depth and breadth of the inquiry.\n",
    "    The First Prompt: {first_instruction}\n",
    "    The Second Prompt: {second_instruction}\n",
    "    Your Judgement (Just answer: Equal or Not Equal. No need to explain the reason):\"\"\""
   ]
  },
  {
   "cell_type": "code",
   "execution_count": 3,
   "metadata": {},
   "outputs": [],
   "source": [
    "# Define our distilabel class\n",
    "@dataclass\n",
    "class EliminationEqualPrompts(TextGenerationTask):\n",
    "\n",
    "    system_prompt: str = \"You are an AI judge in charge of determining the equality of two instructions. \"\n",
    "\n",
    "    def generate_prompt(self, input: List[str]) -> Prompt:\n",
    "        return Prompt(\n",
    "            system_prompt=self.system_prompt,\n",
    "            formatted_prompt=elimination_equal_prompt.format(\n",
    "                first_instruction=input[0], second_instruction=input[1]\n",
    "            ),\n",
    "        )\n",
    "\n",
    "    def parse_output(self, output: str) -> List[Dict[str, str]]:\n",
    "        \"\"\"Remove punctuation from the string and lowercase it.\"\"\"\n",
    "        return {\n",
    "            \"generations\": output.translate(\n",
    "                str.maketrans(\"\", \"\", string.punctuation)).lower()\n",
    "        }"
   ]
  },
  {
   "cell_type": "markdown",
   "metadata": {},
   "source": [
    "We will use this task in our LLM definition. Similarly to the paper, the parameters will be the same as the ones used in the previous section."
   ]
  },
  {
   "cell_type": "code",
   "execution_count": 9,
   "metadata": {},
   "outputs": [],
   "source": [
    "# Define out second LLM\n",
    "elimination_llm = OpenAILLM(\n",
    "    task=EliminationEqualPrompts(),\n",
    "    api_key=os.getenv(\"OPENAI_API_KEY\"),\n",
    "    model= \"gpt-3.5-turbo\",\n",
    "    num_threads=4,\n",
    "    max_new_tokens=2048,\n",
    "    temperature=1,\n",
    "    frequency_penalty=0.0,\n",
    "    top_p=0.9,\n",
    ")"
   ]
  },
  {
   "cell_type": "markdown",
   "metadata": {},
   "source": [
    "## Run the evolution process"
   ]
  },
  {
   "cell_type": "markdown",
   "metadata": {},
   "source": [
    "In order to run the evolution process, we will create the `make_evol_instruct_dataset` function that will take the defined the LLMs, the initial dataset, and the number of evolution steps (defaults to 4). In addition, for a easy exploration of our resulting dataset, we will use `argilla` to return it as a `FeedbackDataset`."
   ]
  },
  {
   "cell_type": "code",
   "execution_count": 22,
   "metadata": {},
   "outputs": [],
   "source": [
    "def make_evol_instruct_dataset(\n",
    "    evolver_llm: LLM, \n",
    "    elimination_llm: LLM,\n",
    "    dataset: Dataset,\n",
    "    evolution_steps: int = 4\n",
    "    ) -> \"Dataset\":\n",
    "    \n",
    "    # Set the pipelines using Pipeline\n",
    "    evolver_pipe = Pipeline(generator=evolver_llm)\n",
    "    elimination_pipe = Pipeline(generator=elimination_llm)\n",
    "    \n",
    "    # Set the initial dataset\n",
    "    input_dataset = dataset\n",
    "\n",
    "    # Start the evolution process\n",
    "    for step in range(1, evolution_steps + 1):\n",
    "        print(f\"Evolving dataset step: {step}/{evolution_steps}\")\n",
    "\n",
    "        # Generate new instructions\n",
    "        start = time.time()\n",
    "        evolved_dataset = evolver_pipe.generate(input_dataset, batch_size=8)\n",
    "        end = time.time()\n",
    "        print(\"Elapsed\", end - start)\n",
    "\n",
    "        # Prepare the dataset for the second pipeline with the original\n",
    "        # instructions and the evolved ones. If the evolved instruction is None,\n",
    "        # we use the original instruction (to make sure it will be removed)\n",
    "        def prepare_for_equal_prompts(example):\n",
    "            if example[\"instructions\"][0] is None:\n",
    "                return {\"input\": [example[\"input\"], example[\"input\"]]}\n",
    "            else:\n",
    "                return {\"input\": [example[\"input\"], example[\"instructions\"][0]]}\n",
    "\n",
    "        prepared_dataset = (\n",
    "            evolved_dataset\n",
    "            .map(prepare_for_equal_prompts)\n",
    "            .select_columns([\"input\"])\n",
    "        )\n",
    "\n",
    "        # Perform the elimination process, step 1\n",
    "        start = time.time()\n",
    "        elimination_dataset=elimination_pipe.generate(prepared_dataset, batch_size=8)\n",
    "        end = time.time()\n",
    "        print(\"Elapsed\", end - start)\n",
    "        \n",
    "        # Filter out the equal instructions\n",
    "        equal_prompts_check = list(itertools.chain(*elimination_dataset[\"generations\"]))\n",
    "        \n",
    "        def filter_based_on_equality(example, idx):\n",
    "            return example['instructions'][0] is not None or equal_prompts_check[idx].lower() != \"equal\"\n",
    "\n",
    "        filtered_evolved_dataset = evolved_dataset.filter(\n",
    "            lambda example, idx: filter_based_on_equality(example, idx),\n",
    "            with_indices=True\n",
    "        )\n",
    "\n",
    "        # Add the successful evolved instructions to the argilla final dataset\n",
    "        if len(filtered_evolved_dataset) > 0:\n",
    "            try:\n",
    "                rg_temp_dataset = filtered_evolved_dataset.to_argilla()\n",
    "                records = rg_temp_dataset.records\n",
    "                rg_dataset.add_records(records)\n",
    "            except:\n",
    "                rg_dataset = filtered_evolved_dataset.to_argilla()\n",
    "        else:\n",
    "            print(\"Dataset is empty. Skipping Argilla conversion or record addition.\")\n",
    "        \n",
    "        # Prepare the dataset for the next iteration\n",
    "        new_instructions = [\n",
    "            instruction[0] if generation[0].lower() != \"equal\" or instruction[0] == None else input_text\n",
    "            for instruction, input_text, generation in zip(\n",
    "                evolved_dataset['instructions'], evolved_dataset['input'], elimination_dataset['generations']\n",
    "            )\n",
    "        ]\n",
    "        input_dataset = Dataset.from_dict({\"input\": new_instructions})\n",
    "\n",
    "    return rg_dataset"
   ]
  },
  {
   "cell_type": "markdown",
   "metadata": {},
   "source": [
    "<div class=\"alert alert-info\">\n",
    "Note\n",
    "\n",
    "If you prefer to return a `Dataset` object, you can use the following code. Note that if you want to explore the dataset in Argilla, you'll need to create a `FeedbackDataset` object manually.\n",
    "\n",
    "```python\n",
    "import pandas as pd\n",
    "\n",
    "def make_evol_instruct_dataset(\n",
    "    evolver_llm: LLM, \n",
    "    elimination_llm: LLM,\n",
    "    dataset: Dataset,\n",
    "    evolution_steps: int = 4\n",
    "    ) -> \"Dataset\":\n",
    "    \n",
    "    # Set the pipelines\n",
    "    evolver_pipe = Pipeline(generator=evolver_llm)\n",
    "    elimination_pipe = Pipeline(generator=elimination_llm)\n",
    "    \n",
    "    # Set the initial dataset\n",
    "    input_dataset = dataset\n",
    "    successful_instructions = []\n",
    "\n",
    "    # Start the evolution process\n",
    "    for step in range(1, evolution_steps + 1):\n",
    "        print(f\"Evolving dataset step: {step}/{evolution_steps}\")\n",
    "\n",
    "        # Generate new instructions\n",
    "        start = time.time()\n",
    "        evolved_dataset = evolver_pipe.generate(input_dataset, batch_size=8)\n",
    "        end = time.time()\n",
    "        print(\"Elapsed\", end - start)\n",
    "\n",
    "        # Prepare the dataset for the second pipeline with the original\n",
    "        # instructions and the evolved ones. If the evolved instruction is None,\n",
    "        # we use the original instruction (to make sure it will be removed)\n",
    "        def prepare_for_equal_prompts(example):\n",
    "            if example[\"instructions\"][0] is None:\n",
    "                return {\"input\": [example[\"input\"], example[\"input\"]]}\n",
    "            else:\n",
    "                \n",
    "                return {\"input\": [example[\"input\"], example[\"instructions\"][0]]}\n",
    "\n",
    "        prepared_dataset = (\n",
    "            evolved_dataset\n",
    "            .map(prepare_for_equal_prompts)\n",
    "            .select_columns([\"input\"])\n",
    "        )\n",
    "        print(prepared_dataset)\n",
    "\n",
    "        # Perform the elimination process, step 1\n",
    "        start = time.time()\n",
    "        elimination_dataset=elimination_pipe.generate(prepared_dataset, batch_size=8)\n",
    "        end = time.time()\n",
    "        print(\"Elapsed\", end - start)\n",
    "        \n",
    "        # Save the succesful instructions in the pool and prepare the inputs for the next iteration\n",
    "        new_instructions = []\n",
    "        \n",
    "        for row_evolved, row_elimination in zip(evolved_dataset, elimination_dataset):\n",
    "            if row_evolved['instructions'][0] is None or row_elimination['generations'][0] != \"equal\":\n",
    "                new_instructions.append(row_evolved['instructions'][0])\n",
    "                successful_instructions.append(row_evolved)\n",
    "            else:\n",
    "                new_instructions.append(row_evolved['input'])\n",
    "\n",
    "        input_dataset = Dataset.from_dict({\"input\": new_instructions})\n",
    "\n",
    "    # Prepare the final dataset\n",
    "    df_final_dataset = pd.DataFrame(successful_instructions)\n",
    "    final_dataset = Dataset.from_pandas(df_final_dataset)\n",
    "    \n",
    "    return final_dataset\n",
    "```\n",
    "\n",
    "</div>"
   ]
  },
  {
   "cell_type": "markdown",
   "metadata": {},
   "source": [
    "So, let's make our first evol-instruct dataset! 🧙"
   ]
  },
  {
   "cell_type": "code",
   "execution_count": null,
   "metadata": {},
   "outputs": [],
   "source": [
    "ds_evol_instruct = make_evol_instruct_dataset(\n",
    "    evolver_llm=evolver_llm,\n",
    "    elimination_llm=elimination_llm,\n",
    "    dataset=initial_dataset,\n",
    "    evolution_steps=4)"
   ]
  },
  {
   "cell_type": "code",
   "execution_count": 25,
   "metadata": {},
   "outputs": [
    {
     "data": {
      "text/plain": [
       "FeedbackDataset(\n",
       "   fields=[TextField(name='input', title='input', required=True, type='text', use_markdown=True), TextField(name='instructions', title='instructions', required=True, type='text', use_markdown=False)]\n",
       "   questions=[RatingQuestion(name='instruction-rating', title='How would you rate the generated instruction?', description=None, required=True, type='rating', values=[1, 2, 3, 4, 5, 6, 7, 8, 9, 10])]\n",
       "   guidelines=None)\n",
       "   metadata_properties=[IntegerMetadataProperty(name='length-input', title='length-input', visible_for_annotators=True, type='integer', min=None, max=None), IntegerMetadataProperty(name='length-instruction', title='length-instruction', visible_for_annotators=True, type='integer', min=None, max=None), IntegerMetadataProperty(name='input_n_tokens', title='Input N Tokens', visible_for_annotators=True, type='integer', min=None, max=None), IntegerMetadataProperty(name='input_n_unique_tokens', title='Input N Unique Tokens', visible_for_annotators=True, type='integer', min=None, max=None), IntegerMetadataProperty(name='input_n_sentences', title='Input N Sentences', visible_for_annotators=True, type='integer', min=None, max=None), FloatMetadataProperty(name='input_perplexity', title='Input Perplexity', visible_for_annotators=True, type='float', min=None, max=None), FloatMetadataProperty(name='input_entropy', title='Input Entropy', visible_for_annotators=True, type='float', min=None, max=None), FloatMetadataProperty(name='input_flesch_reading_ease', title='Input Flesch Reading Ease', visible_for_annotators=True, type='float', min=None, max=None), IntegerMetadataProperty(name='instructions_n_tokens', title='Instructions N Tokens', visible_for_annotators=True, type='integer', min=None, max=None), IntegerMetadataProperty(name='instructions_n_unique_tokens', title='Instructions N Unique Tokens', visible_for_annotators=True, type='integer', min=None, max=None), IntegerMetadataProperty(name='instructions_n_sentences', title='Instructions N Sentences', visible_for_annotators=True, type='integer', min=None, max=None), FloatMetadataProperty(name='instructions_perplexity', title='Instructions Perplexity', visible_for_annotators=True, type='float', min=None, max=None), FloatMetadataProperty(name='instructions_entropy', title='Instructions Entropy', visible_for_annotators=True, type='float', min=None, max=None), FloatMetadataProperty(name='instructions_flesch_reading_ease', title='Instructions Flesch Reading Ease', visible_for_annotators=True, type='float', min=None, max=None)])\n",
       "   vectors_settings=[VectorSettings(name='input', title='Input', dimensions=384), VectorSettings(name='instructions', title='Instructions', dimensions=384)])\n",
       ")"
      ]
     },
     "execution_count": 25,
     "metadata": {},
     "output_type": "execute_result"
    }
   ],
   "source": [
    "ds_evol_instruct"
   ]
  },
  {
   "cell_type": "markdown",
   "metadata": {},
   "source": [
    "### Human Feedback with Argilla"
   ]
  },
  {
   "cell_type": "markdown",
   "metadata": {},
   "source": [
    "Before generating the answers for our evolved instructions, we can explore the dataset and check if they are correct and more complex. Even if this step is optional, it is recommended to further ensure the quality of the generated instructions.\n",
    "\n",
    "> You can check [the Argilla docs](https://docs.argilla.io/en/latest/getting_started/quickstart_installation.html) to get it up and running."
   ]
  },
  {
   "cell_type": "code",
   "execution_count": null,
   "metadata": {},
   "outputs": [],
   "source": [
    "# Push to Argilla\n",
    "try:\n",
    "    rg.init(\n",
    "        workspace=\"admin\",\n",
    "        extra_headers={\"Authorization\": f\"Bearer {os.environ['HF_TOKEN']}\"}\n",
    "    )\n",
    "    ds_evol_instruct.push_to_argilla(\n",
    "            name=\"distilabel-evol-instructuctions\",\n",
    "            workspace=\"admin\",\n",
    "        )\n",
    "except Exception as e:\n",
    "    print(e)"
   ]
  },
  {
   "attachments": {
    "image.png": {
     "image/png": "[encoded data removed]"
    }
   },
   "cell_type": "markdown",
   "metadata": {},
   "source": [
    "![image.png](attachment:image.png)"
   ]
  },
  {
   "cell_type": "markdown",
   "metadata": {},
   "source": [
    "## Generate the responses"
   ]
  },
  {
   "cell_type": "markdown",
   "metadata": {},
   "source": [
    "Finally, once we have the human feedback for our evolved instructions, we can generate the answers to the evolved instructions. First, we will prepare the dataset to be used in this next step.\n",
    "\n",
    "If you submitted some feedback in the previous step, we will use only those instructions with a higher rate than the threshold set. If not, you can use the dataset as it is from HuggingFace."
   ]
  },
  {
   "cell_type": "code",
   "execution_count": 55,
   "metadata": {},
   "outputs": [],
   "source": [
    "try:\n",
    "    # Load the dataset from Argilla\n",
    "    rg_feedback_dataset = rg.FeedbackDataset.from_argilla(\"distilabel-evol-instructuctions\", workspace=\"admin\")\n",
    "    \n",
    "    inputs_set = set()\n",
    "    threshold = 7\n",
    "\n",
    "    for record in rg_feedback_dataset.records:\n",
    "        high_rating_responses = [\n",
    "            response for response in record.responses\n",
    "            if response.status == \"submitted\" and response.values[\"instruction-rating\"].value >= threshold\n",
    "        ]\n",
    "        if high_rating_responses:\n",
    "            inputs_set.add(record.fields['instructions'])\n",
    "            \n",
    "    instructions_dataset = Dataset.from_dict({\"input\": list(inputs_set)})\n",
    "    \n",
    "except:\n",
    "    # Load the dataset from Hugging Face\n",
    "    rg_feedback_dataset = load_dataset(\"argilla/distilabel-evol-instructuctions\")\n",
    "    instructions_dataset = Dataset.from_dict({\"input\": rg_feedback_dataset['train']['instructions']})"
   ]
  },
  {
   "cell_type": "code",
   "execution_count": 87,
   "metadata": {},
   "outputs": [
    {
     "data": {
      "text/plain": [
       "Dataset({\n",
       "    features: ['input'],\n",
       "    num_rows: 6\n",
       "})"
      ]
     },
     "execution_count": 87,
     "metadata": {},
     "output_type": "execute_result"
    }
   ],
   "source": [
    "instructions_dataset"
   ]
  },
  {
   "cell_type": "markdown",
   "metadata": {},
   "source": [
    "As outlined in Section 3.2 of the paper, we will employ the same LLM and use the instruction directly as the input prompt. To achieve this, we will utilize the `TextGenerationTask`. Although this task incorporates a predefined system prompt, we consider it appropriate for our scenario. It does not negatively impact the outcome; in fact, employing it aligns with best practices and improves the given answer."
   ]
  },
  {
   "cell_type": "code",
   "execution_count": 95,
   "metadata": {},
   "outputs": [],
   "source": [
    "# Define out second LLM\n",
    "response_llm = OpenAILLM(\n",
    "    task=TextGenerationTask(),\n",
    "    api_key=os.getenv(\"OPENAI_API_KEY\"),\n",
    "    model= \"gpt-3.5-turbo\",\n",
    "    num_threads=4,\n",
    "    max_new_tokens=2048,\n",
    "    temperature=1,\n",
    "    frequency_penalty=0.0,\n",
    "    top_p=0.9,\n",
    ")"
   ]
  },
  {
   "cell_type": "code",
   "execution_count": 5,
   "metadata": {},
   "outputs": [
    {
     "data": {
      "text/plain": [
       "Prompt(system_prompt=\"You are a helpful, respectful and honest assistant. Always answer as helpfully as possible, while being safe. Your answers should not include any harmful, unethical, racist, sexist, toxic, dangerous, or illegal content. Please ensure that your responses are socially unbiased and positive in nature.\\nIf a question does not make any sense, or is not factually coherent, explain why instead of answering something not correct. If you don't know the answer to a question, please don't share false information.\", formatted_prompt=[\"What's a good way to make a pancake?\"])"
      ]
     },
     "execution_count": 5,
     "metadata": {},
     "output_type": "execute_result"
    }
   ],
   "source": [
    "# Example of the generated prompt\n",
    "task = TextGenerationTask()\n",
    "task.generate_prompt([\"What's a good way to make a pancake?\"])"
   ]
  },
  {
   "cell_type": "markdown",
   "metadata": {},
   "source": [
    "Now, we can create the pipeline and run it to generate the final dataset."
   ]
  },
  {
   "cell_type": "code",
   "execution_count": 96,
   "metadata": {},
   "outputs": [],
   "source": [
    "# Set the pipeline\n",
    "response_pipe = Pipeline(generator=response_llm)\n",
    "\n",
    "# Generate the responses\n",
    "start = time.time()\n",
    "evol_instruct_dataset = response_pipe.generate(instructions_dataset, batch_size=8)\n",
    "end = time.time()\n",
    "print(\"Elapsed\", end - start)"
   ]
  },
  {
   "cell_type": "code",
   "execution_count": 105,
   "metadata": {},
   "outputs": [
    {
     "data": {
      "text/plain": [
       "{'input': 'Determine all pairs of positive integers (x, y) that satisfy the Diophantine equation:\\n\\nThe sum of the squares of two positive integers x and y is equal to 169.',\n",
       " 'generation_model': ['gpt-3.5-turbo'],\n",
       " 'generation_prompt': [[{'content': '', 'role': 'system'},\n",
       "   {'content': 'Determine all pairs of positive integers (x, y) that satisfy the Diophantine equation:\\n\\nThe sum of the squares of two positive integers x and y is equal to 169.',\n",
       "    'role': 'user'}]],\n",
       " 'raw_generation_responses': [\"We are given that the sum of the squares of two positive integers x and y is equal to 169. In other words, we have the equation:\\n\\nx^2 + y^2 = 169\\n\\nTo determine all pairs of positive integers (x, y) that satisfy this equation, we can use a systematic approach. \\n\\nWe notice that 169 is a perfect square, since it can be written as 13^2. Therefore, we can rewrite the equation as:\\n\\nx^2 + y^2 = 13^2\\n\\nNow, let's consider the possible values for x and y. Since we are looking for positive integers, the largest possible value for x or y is 13, since any value greater than 13 would result in a sum of squares larger than 169.\\n\\nWe can test all possible values of x from 1 to 13 and find the corresponding values of y that satisfy the equation.\\n\\nFor x = 1, we have:\\n\\n1^2 + y^2 = 13^2\\n1 + y^2 = 169\\ny^2 = 168\\n\\nHowever, there are no perfect squares less than or equal to 168. So there are no solutions for x = 1.\\n\\nFor x = 2, we have:\\n\\n2^2 + y^2 = 13^2\\n4 + y^2 = 169\\ny^2 = 165\\n\\nAgain, there are no perfect squares less than or equal to 165. So there are no solutions for x = 2.\\n\\nWe can continue this process for x = 3, 4, ..., 12, 13 and find that there are no solutions for any of these values of x.\\n\\nTherefore, the Diophantine equation x^2 + y^2 = 169 has no solutions in positive integers (x, y).\"],\n",
       " 'generations': [\"We are given that the sum of the squares of two positive integers x and y is equal to 169. In other words, we have the equation:\\n\\nx^2 + y^2 = 169\\n\\nTo determine all pairs of positive integers (x, y) that satisfy this equation, we can use a systematic approach. \\n\\nWe notice that 169 is a perfect square, since it can be written as 13^2. Therefore, we can rewrite the equation as:\\n\\nx^2 + y^2 = 13^2\\n\\nNow, let's consider the possible values for x and y. Since we are looking for positive integers, the largest possible value for x or y is 13, since any value greater than 13 would result in a sum of squares larger than 169.\\n\\nWe can test all possible values of x from 1 to 13 and find the corresponding values of y that satisfy the equation.\\n\\nFor x = 1, we have:\\n\\n1^2 + y^2 = 13^2\\n1 + y^2 = 169\\ny^2 = 168\\n\\nHowever, there are no perfect squares less than or equal to 168. So there are no solutions for x = 1.\\n\\nFor x = 2, we have:\\n\\n2^2 + y^2 = 13^2\\n4 + y^2 = 169\\ny^2 = 165\\n\\nAgain, there are no perfect squares less than or equal to 165. So there are no solutions for x = 2.\\n\\nWe can continue this process for x = 3, 4, ..., 12, 13 and find that there are no solutions for any of these values of x.\\n\\nTherefore, the Diophantine equation x^2 + y^2 = 169 has no solutions in positive integers (x, y).\"]}"
      ]
     },
     "execution_count": 105,
     "metadata": {},
     "output_type": "execute_result"
    }
   ],
   "source": [
    "evol_instruct_dataset[0]"
   ]
  },
  {
   "cell_type": "markdown",
   "metadata": {},
   "source": [
    "Finally, we can push the dataset to HuggingFace to share it with the community thanks to the `push_to_hub` method or provide human feedback for the generated answers converting the dataset to a `FeedbackDataset` and pushing it to Argilla."
   ]
  },
  {
   "cell_type": "code",
   "execution_count": null,
   "metadata": {},
   "outputs": [],
   "source": [
    "# Push to Hugging Face\n",
    "HF_REPO_ID = \"argilla/distilabel-evol-instruct-dataset\"\n",
    "evol_instruct_dataset.push_to_hub(\n",
    "        HF_REPO_ID,  # type: ignore\n",
    "        split=\"train\",\n",
    "        private=False,\n",
    "        token=os.getenv(\"HF_TOKEN\", None),\n",
    "    )"
   ]
  },
  {
   "cell_type": "code",
   "execution_count": null,
   "metadata": {},
   "outputs": [],
   "source": [
    "# Push to Argilla\n",
    "try:\n",
    "    rg.init(\n",
    "        workspace=\"admin\",\n",
    "        extra_headers={\"Authorization\": f\"Bearer {os.environ['HF_TOKEN']}\"}\n",
    "    )\n",
    "    rg_evol_instruct_dataset = evol_instruct_dataset.to_argilla()\n",
    "    rg_evol_instruct_dataset.push_to_argilla(\n",
    "            name=\"distilabel-evol-instruct-dataset\",\n",
    "            workspace=\"admin\",\n",
    "        )\n",
    "except Exception as e:\n",
    "    print(e)"
   ]
  },
  {
   "cell_type": "markdown",
   "metadata": {},
   "source": [
    "## Conclusions\n",
    "\n",
    "In this tutorial, we followed the method from \"WizardLM: Empowering Large Language Models to Follow Complex Instructions\" to develop an evolved-instruction dataset. Using `distilabel`, we generated and evaluated new instructions, creating a dataset featuring successful new instructions. Optionally, we employed Argilla to verify the quality of these instructions. Ultimately, we produced responses to the evolved instructions, culminating in a brand-new dataset.\n",
    "\n",
    "We hope you found this tutorial helpful! 👐\n",
    "\n",
    "Explore different ways to create new datasets by checking out these tutorials!\n",
    "\n",
    "* [Clean an existing preference dataset](https://distilabel.argilla.io/latest/tutorials/clean-preference-dataset-judgelm-gpt.html)\n",
    "* [Create a mathematical preference dataset](https://distilabel.argilla.io/latest/tutorials/create-a-math-preference-dataset.html)"
   ]
  }
 ],
 "metadata": {
  "kernelspec": {
   "display_name": "Python 3",
   "language": "python",
   "name": "python3"
  },
  "language_info": {
   "codemirror_mode": {
    "name": "ipython",
    "version": 3
   },
   "file_extension": ".py",
   "mimetype": "text/x-python",
   "name": "python",
   "nbconvert_exporter": "python",
   "pygments_lexer": "ipython3",
   "version": "3.10.12"
  }
 },
 "nbformat": 4,
 "nbformat_minor": 2
}
